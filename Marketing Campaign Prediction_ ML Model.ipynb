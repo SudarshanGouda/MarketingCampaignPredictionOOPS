{
 "cells": [
  {
   "cell_type": "code",
   "execution_count": 1,
   "id": "703e8656",
   "metadata": {},
   "outputs": [],
   "source": [
    "import pandas as pd\n",
    "import numpy as np\n",
    "import matplotlib.pyplot as plt\n",
    "import seaborn as sns\n",
    "import warnings\n",
    "warnings.filterwarnings('ignore')"
   ]
  },
  {
   "cell_type": "code",
   "execution_count": 2,
   "id": "0f039c16",
   "metadata": {},
   "outputs": [],
   "source": [
    "X_train=pd.read_pickle(\"./X_train.pkl\")\n",
    "X_test=pd.read_pickle(\"./X_test.pkl\")\n",
    "y_train=pd.read_pickle(\"./y_train.pkl\")\n",
    "y_test=pd.read_pickle(\"./y_test.pkl\")\n",
    "\n",
    "X=pd.read_pickle(\"./X.pkl\")\n",
    "y=pd.read_pickle(\"./y.pkl\")\n",
    "df=pd.read_pickle(\"./df.pkl\")"
   ]
  },
  {
   "cell_type": "markdown",
   "id": "76ea9e98",
   "metadata": {},
   "source": [
    "## Standard Scalar"
   ]
  },
  {
   "cell_type": "code",
   "execution_count": 3,
   "id": "377717c4",
   "metadata": {},
   "outputs": [],
   "source": [
    "from sklearn.preprocessing import MinMaxScaler"
   ]
  },
  {
   "cell_type": "code",
   "execution_count": 4,
   "id": "c9e5c539",
   "metadata": {},
   "outputs": [],
   "source": [
    "sc=MinMaxScaler(feature_range=(0, 1))"
   ]
  },
  {
   "cell_type": "code",
   "execution_count": 5,
   "id": "27de3258",
   "metadata": {},
   "outputs": [],
   "source": [
    "X_train=sc.fit_transform(X_train)\n",
    "X_test=sc.transform(X_test)"
   ]
  },
  {
   "cell_type": "markdown",
   "id": "1105c1e6",
   "metadata": {},
   "source": [
    "## Logistic Regression"
   ]
  },
  {
   "cell_type": "code",
   "execution_count": 6,
   "id": "9f1b12b5",
   "metadata": {},
   "outputs": [],
   "source": [
    "from sklearn.linear_model import LogisticRegression\n",
    "from sklearn.metrics import confusion_matrix,classification_report,roc_auc_score,accuracy_score,balanced_accuracy_score,f1_score"
   ]
  },
  {
   "cell_type": "code",
   "execution_count": 7,
   "id": "449a0c90",
   "metadata": {},
   "outputs": [
    {
     "name": "stdout",
     "output_type": "stream",
     "text": [
      "confusion_matrix\n",
      "[[12722   453]\n",
      " [ 1095   650]]\n",
      "\n",
      "\n",
      "classification_report\n",
      "              precision    recall  f1-score   support\n",
      "\n",
      "           0       0.92      0.97      0.94     13175\n",
      "           1       0.59      0.37      0.46      1745\n",
      "\n",
      "    accuracy                           0.90     14920\n",
      "   macro avg       0.76      0.67      0.70     14920\n",
      "weighted avg       0.88      0.90      0.89     14920\n",
      "\n",
      "\n",
      "\n",
      "Accuracy: 89.62466487935656\n",
      "\n",
      "\n",
      "ROC Value: 0.6690547674842189\n",
      "\n",
      "\n",
      "Balenced Accuracy: 0.6690547674842189\n",
      "\n",
      "\n",
      "F1 Score: 0.45646067415730335\n"
     ]
    }
   ],
   "source": [
    "M1=LogisticRegression()\n",
    "M1.fit(X_train,y_train)\n",
    "P1=M1.predict(X_test)\n",
    "print('confusion_matrix')\n",
    "print(confusion_matrix(y_test,P1))\n",
    "print('\\n')\n",
    "print('classification_report')\n",
    "print(classification_report(y_test,P1))\n",
    "print('\\n')\n",
    "print('Accuracy:',100*accuracy_score(y_test,P1))\n",
    "print('\\n')\n",
    "print('ROC Value:',roc_auc_score(y_test,P1))\n",
    "print('\\n')\n",
    "print('Balenced Accuracy:',balanced_accuracy_score(y_test,P1))\n",
    "print('\\n')\n",
    "print('F1 Score:',f1_score(y_test,P1))"
   ]
  },
  {
   "cell_type": "markdown",
   "id": "2ea46a26",
   "metadata": {},
   "source": [
    "## DecisionTree"
   ]
  },
  {
   "cell_type": "code",
   "execution_count": 8,
   "id": "c8f1872f",
   "metadata": {},
   "outputs": [],
   "source": [
    "from sklearn.tree import DecisionTreeClassifier"
   ]
  },
  {
   "cell_type": "code",
   "execution_count": 9,
   "id": "44f45254",
   "metadata": {},
   "outputs": [
    {
     "name": "stdout",
     "output_type": "stream",
     "text": [
      "confusion_matrix\n",
      "[[11869  1306]\n",
      " [  930   815]]\n",
      "\n",
      "\n",
      "classification_report\n",
      "              precision    recall  f1-score   support\n",
      "\n",
      "           0       0.93      0.90      0.91     13175\n",
      "           1       0.38      0.47      0.42      1745\n",
      "\n",
      "    accuracy                           0.85     14920\n",
      "   macro avg       0.66      0.68      0.67     14920\n",
      "weighted avg       0.86      0.85      0.86     14920\n",
      "\n",
      "\n",
      "\n",
      "Accuracy: 85.01340482573725\n",
      "\n",
      "\n",
      "ROC Value: 0.6839607879384307\n"
     ]
    }
   ],
   "source": [
    "M2=DecisionTreeClassifier()\n",
    "M2.fit(X_train,y_train)\n",
    "P2=M2.predict(X_test)\n",
    "print('confusion_matrix')\n",
    "print(confusion_matrix(y_test,P2))\n",
    "print('\\n')\n",
    "print('classification_report')\n",
    "print(classification_report(y_test,P2))\n",
    "print('\\n')\n",
    "print('Accuracy:',100*accuracy_score(y_test,P2))\n",
    "print('\\n')\n",
    "print('ROC Value:',roc_auc_score(y_test,P2))"
   ]
  },
  {
   "cell_type": "markdown",
   "id": "c1ec323b",
   "metadata": {},
   "source": [
    "## RandomForest"
   ]
  },
  {
   "cell_type": "code",
   "execution_count": 10,
   "id": "94245554",
   "metadata": {},
   "outputs": [],
   "source": [
    "from sklearn.ensemble import RandomForestClassifier"
   ]
  },
  {
   "cell_type": "code",
   "execution_count": 11,
   "id": "9242342a",
   "metadata": {},
   "outputs": [
    {
     "name": "stdout",
     "output_type": "stream",
     "text": [
      "confusion_matrix\n",
      "[[12525   650]\n",
      " [  917   828]]\n",
      "\n",
      "\n",
      "classification_report\n",
      "              precision    recall  f1-score   support\n",
      "\n",
      "           0       0.93      0.95      0.94     13175\n",
      "           1       0.56      0.47      0.51      1745\n",
      "\n",
      "    accuracy                           0.89     14920\n",
      "   macro avg       0.75      0.71      0.73     14920\n",
      "weighted avg       0.89      0.89      0.89     14920\n",
      "\n",
      "\n",
      "\n",
      "Accuracy: 89.49731903485255\n",
      "\n",
      "\n",
      "ROC Value: 0.7125813519788172\n"
     ]
    }
   ],
   "source": [
    "M3=RandomForestClassifier()\n",
    "M3.fit(X_train,y_train)\n",
    "P3=M3.predict(X_test)\n",
    "print('confusion_matrix')\n",
    "print(confusion_matrix(y_test,P3))\n",
    "print('\\n')\n",
    "print('classification_report')\n",
    "print(classification_report(y_test,P3))\n",
    "print('\\n')\n",
    "print('Accuracy:',100*accuracy_score(y_test,P3))\n",
    "print('\\n')\n",
    "print('ROC Value:',roc_auc_score(y_test,P3))"
   ]
  },
  {
   "cell_type": "markdown",
   "id": "9e6d1913",
   "metadata": {},
   "source": [
    "## Support Vector"
   ]
  },
  {
   "cell_type": "code",
   "execution_count": 12,
   "id": "83587a1b",
   "metadata": {},
   "outputs": [],
   "source": [
    "from sklearn.svm import SVC"
   ]
  },
  {
   "cell_type": "code",
   "execution_count": 13,
   "id": "c884491e",
   "metadata": {},
   "outputs": [
    {
     "name": "stdout",
     "output_type": "stream",
     "text": [
      "confusion_matrix\n",
      "[[12882   293]\n",
      " [ 1273   472]]\n",
      "\n",
      "\n",
      "classification_report\n",
      "              precision    recall  f1-score   support\n",
      "\n",
      "           0       0.91      0.98      0.94     13175\n",
      "           1       0.62      0.27      0.38      1745\n",
      "\n",
      "    accuracy                           0.90     14920\n",
      "   macro avg       0.76      0.62      0.66     14920\n",
      "weighted avg       0.88      0.90      0.88     14920\n",
      "\n",
      "\n",
      "\n",
      "Accuracy: 89.50402144772119\n",
      "\n",
      "\n",
      "ROC Value: 0.6241240084165657\n"
     ]
    }
   ],
   "source": [
    "M4=SVC()\n",
    "M4.fit(X_train,y_train)\n",
    "P4=M4.predict(X_test)\n",
    "print('confusion_matrix')\n",
    "print(confusion_matrix(y_test,P4))\n",
    "print('\\n')\n",
    "print('classification_report')\n",
    "print(classification_report(y_test,P4))\n",
    "print('\\n')\n",
    "print('Accuracy:',100*accuracy_score(y_test,P4))\n",
    "print('\\n')\n",
    "print('ROC Value:',roc_auc_score(y_test,P4))"
   ]
  },
  {
   "cell_type": "markdown",
   "id": "65631ee7",
   "metadata": {},
   "source": [
    "## KNN"
   ]
  },
  {
   "cell_type": "code",
   "execution_count": 14,
   "id": "bd322b8d",
   "metadata": {},
   "outputs": [],
   "source": [
    "from sklearn.neighbors import KNeighborsClassifier"
   ]
  },
  {
   "cell_type": "code",
   "execution_count": 15,
   "id": "dc3d5030",
   "metadata": {},
   "outputs": [
    {
     "data": {
      "text/plain": [
       "Text(0, 0.5, 'Error Rate')"
      ]
     },
     "execution_count": 15,
     "metadata": {},
     "output_type": "execute_result"
    },
    {
     "data": {
      "image/png": "[encoded data removed]",
      "text/plain": [
       "<Figure size 720x720 with 1 Axes>"
      ]
     },
     "metadata": {
      "needs_background": "light"
     },
     "output_type": "display_data"
    }
   ],
   "source": [
    "error_Mat=[]\n",
    "for i in range (1,50):\n",
    "    knn=KNeighborsClassifier(n_neighbors=i)\n",
    "    knn.fit(X_train,y_train)\n",
    "    predict_i=knn.predict(X_test)\n",
    "    error_Mat.append(np.mean(predict_i != y_test))\n",
    "plt.figure(figsize=(10,10))\n",
    "plt.plot(range(1,50),error_Mat,color='blue', linestyle='dashed', marker='o',\n",
    "         markerfacecolor='red', markersize=10)\n",
    "plt.title('Error Rate vs. K Value')\n",
    "plt.xlabel('K')\n",
    "plt.ylabel('Error Rate')"
   ]
  },
  {
   "cell_type": "code",
   "execution_count": 16,
   "id": "f4e6ee8a",
   "metadata": {},
   "outputs": [
    {
     "name": "stdout",
     "output_type": "stream",
     "text": [
      "confusion_matrix\n",
      "[[12854   321]\n",
      " [ 1347   398]]\n",
      "\n",
      "\n",
      "classification_report\n",
      "              precision    recall  f1-score   support\n",
      "\n",
      "           0       0.91      0.98      0.94     13175\n",
      "           1       0.55      0.23      0.32      1745\n",
      "\n",
      "    accuracy                           0.89     14920\n",
      "   macro avg       0.73      0.60      0.63     14920\n",
      "weighted avg       0.86      0.89      0.87     14920\n",
      "\n",
      "\n",
      "\n",
      "Accuracy: 88.82037533512064\n",
      "\n",
      "\n",
      "ROC Value: 0.6018579514253247\n"
     ]
    }
   ],
   "source": [
    "M5=KNeighborsClassifier(n_neighbors=2)\n",
    "M5.fit(X_train,y_train)\n",
    "P5=M5.predict(X_test)\n",
    "print('confusion_matrix')\n",
    "print(confusion_matrix(y_test,P5))\n",
    "print('\\n')\n",
    "print('classification_report')\n",
    "print(classification_report(y_test,P5))\n",
    "print('\\n')\n",
    "print('Accuracy:',100*accuracy_score(y_test,P5))\n",
    "print('\\n')\n",
    "print('ROC Value:',roc_auc_score(y_test,P5))"
   ]
  },
  {
   "cell_type": "markdown",
   "id": "9594af17",
   "metadata": {},
   "source": [
    "## Naive_bayes"
   ]
  },
  {
   "cell_type": "code",
   "execution_count": 17,
   "id": "3ac1d181",
   "metadata": {},
   "outputs": [],
   "source": [
    "from sklearn.naive_bayes import GaussianNB"
   ]
  },
  {
   "cell_type": "code",
   "execution_count": 18,
   "id": "3a93d4d7",
   "metadata": {},
   "outputs": [
    {
     "name": "stdout",
     "output_type": "stream",
     "text": [
      "confusion_matrix\n",
      "[[10097  3078]\n",
      " [  849   896]]\n",
      "\n",
      "\n",
      "classification_report\n",
      "              precision    recall  f1-score   support\n",
      "\n",
      "           0       0.92      0.77      0.84     13175\n",
      "           1       0.23      0.51      0.31      1745\n",
      "\n",
      "    accuracy                           0.74     14920\n",
      "   macro avg       0.57      0.64      0.58     14920\n",
      "weighted avg       0.84      0.74      0.78     14920\n",
      "\n",
      "\n",
      "\n",
      "Accuracy: 73.67962466487936\n",
      "\n",
      "\n",
      "ROC Value: 0.6399213801427771\n"
     ]
    }
   ],
   "source": [
    "M6=GaussianNB()\n",
    "M6.fit(X_train,y_train)\n",
    "P6=M6.predict(X_test)\n",
    "print('confusion_matrix')\n",
    "print(confusion_matrix(y_test,P6))\n",
    "print('\\n')\n",
    "print('classification_report')\n",
    "print(classification_report(y_test,P6))\n",
    "print('\\n')\n",
    "print('Accuracy:',100*accuracy_score(y_test,P6))\n",
    "print('\\n')\n",
    "print('ROC Value:',roc_auc_score(y_test,P6))"
   ]
  },
  {
   "cell_type": "markdown",
   "id": "46c96d3b",
   "metadata": {},
   "source": [
    "## GradientBoostingClassifier"
   ]
  },
  {
   "cell_type": "code",
   "execution_count": 19,
   "id": "729e34c9",
   "metadata": {},
   "outputs": [],
   "source": [
    "from sklearn.ensemble import GradientBoostingClassifier"
   ]
  },
  {
   "cell_type": "code",
   "execution_count": 20,
   "id": "da38a712",
   "metadata": {},
   "outputs": [
    {
     "name": "stdout",
     "output_type": "stream",
     "text": [
      "confusion_matrix\n",
      "[[12103  1072]\n",
      " [  644  1101]]\n",
      "\n",
      "\n",
      "classification_report\n",
      "              precision    recall  f1-score   support\n",
      "\n",
      "           0       0.95      0.92      0.93     13175\n",
      "           1       0.51      0.63      0.56      1745\n",
      "\n",
      "    accuracy                           0.88     14920\n",
      "   macro avg       0.73      0.77      0.75     14920\n",
      "weighted avg       0.90      0.88      0.89     14920\n",
      "\n",
      "\n",
      "\n",
      "Accuracy: 88.49865951742628\n",
      "\n",
      "\n",
      "ROC Value: 0.7747896674151684\n"
     ]
    }
   ],
   "source": [
    "M7=GradientBoostingClassifier()\n",
    "M7.fit(X_train,y_train)\n",
    "P7=M7.predict(X_test)\n",
    "print('confusion_matrix')\n",
    "print(confusion_matrix(y_test,P7))\n",
    "print('\\n')\n",
    "print('classification_report')\n",
    "print(classification_report(y_test,P7))\n",
    "print('\\n')\n",
    "print('Accuracy:',100*accuracy_score(y_test,P7))\n",
    "print('\\n')\n",
    "print('ROC Value:',roc_auc_score(y_test,P7))"
   ]
  },
  {
   "cell_type": "markdown",
   "id": "79740203",
   "metadata": {},
   "source": [
    "## HistGradientBoostingClassifier"
   ]
  },
  {
   "cell_type": "code",
   "execution_count": 21,
   "id": "2ad82310",
   "metadata": {},
   "outputs": [],
   "source": [
    "from sklearn.ensemble import HistGradientBoostingClassifier"
   ]
  },
  {
   "cell_type": "code",
   "execution_count": 22,
   "id": "ef1210f5",
   "metadata": {},
   "outputs": [
    {
     "name": "stdout",
     "output_type": "stream",
     "text": [
      "confusion_matrix\n",
      "[[12496   679]\n",
      " [  796   949]]\n",
      "\n",
      "\n",
      "classification_report\n",
      "              precision    recall  f1-score   support\n",
      "\n",
      "           0       0.94      0.95      0.94     13175\n",
      "           1       0.58      0.54      0.56      1745\n",
      "\n",
      "    accuracy                           0.90     14920\n",
      "   macro avg       0.76      0.75      0.75     14920\n",
      "weighted avg       0.90      0.90      0.90     14920\n",
      "\n",
      "\n",
      "\n",
      "Accuracy: 90.11394101876675\n",
      "\n",
      "\n",
      "ROC Value: 0.7461512698248723\n"
     ]
    }
   ],
   "source": [
    "M8=HistGradientBoostingClassifier()\n",
    "M8.fit(X_train,y_train)\n",
    "P8=M8.predict(X_test)\n",
    "print('confusion_matrix')\n",
    "print(confusion_matrix(y_test,P8))\n",
    "print('\\n')\n",
    "print('classification_report')\n",
    "print(classification_report(y_test,P8))\n",
    "print('\\n')\n",
    "print('Accuracy:',100*accuracy_score(y_test,P8))\n",
    "print('\\n')\n",
    "print('ROC Value:',roc_auc_score(y_test,P8))"
   ]
  },
  {
   "cell_type": "markdown",
   "id": "f5693a2f",
   "metadata": {},
   "source": [
    "## CatBoostClassifier"
   ]
  },
  {
   "cell_type": "code",
   "execution_count": 23,
   "id": "6b0c2432",
   "metadata": {},
   "outputs": [],
   "source": [
    "from catboost import CatBoostClassifier"
   ]
  },
  {
   "cell_type": "code",
   "execution_count": 24,
   "id": "611eb11d",
   "metadata": {},
   "outputs": [
    {
     "name": "stdout",
     "output_type": "stream",
     "text": [
      "confusion_matrix\n",
      "[[12540   635]\n",
      " [  833   912]]\n",
      "\n",
      "\n",
      "classification_report\n",
      "              precision    recall  f1-score   support\n",
      "\n",
      "           0       0.94      0.95      0.94     13175\n",
      "           1       0.59      0.52      0.55      1745\n",
      "\n",
      "    accuracy                           0.90     14920\n",
      "   macro avg       0.76      0.74      0.75     14920\n",
      "weighted avg       0.90      0.90      0.90     14920\n",
      "\n",
      "\n",
      "\n",
      "Accuracy: 90.16085790884718\n",
      "\n",
      "\n",
      "ROC Value: 0.737219379849176\n"
     ]
    }
   ],
   "source": [
    "M9=CatBoostClassifier(verbose=0)\n",
    "M9.fit(X_train,y_train)\n",
    "P9=M9.predict(X_test)\n",
    "print('confusion_matrix')\n",
    "print(confusion_matrix(y_test,P9))\n",
    "print('\\n')\n",
    "print('classification_report')\n",
    "print(classification_report(y_test,P9))\n",
    "print('\\n')\n",
    "print('Accuracy:',100*accuracy_score(y_test,P9))\n",
    "print('\\n')\n",
    "print('ROC Value:',roc_auc_score(y_test,P9))"
   ]
  },
  {
   "cell_type": "markdown",
   "id": "9d800b92",
   "metadata": {},
   "source": [
    "## XGBClassifier"
   ]
  },
  {
   "cell_type": "code",
   "execution_count": 25,
   "id": "deb7c4a8",
   "metadata": {},
   "outputs": [],
   "source": [
    "from xgboost import XGBClassifier"
   ]
  },
  {
   "cell_type": "code",
   "execution_count": 26,
   "id": "d628769b",
   "metadata": {},
   "outputs": [
    {
     "name": "stdout",
     "output_type": "stream",
     "text": [
      "confusion_matrix\n",
      "[[12481   694]\n",
      " [  848   897]]\n",
      "\n",
      "\n",
      "classification_report\n",
      "              precision    recall  f1-score   support\n",
      "\n",
      "           0       0.94      0.95      0.94     13175\n",
      "           1       0.56      0.51      0.54      1745\n",
      "\n",
      "    accuracy                           0.90     14920\n",
      "   macro avg       0.75      0.73      0.74     14920\n",
      "weighted avg       0.89      0.90      0.89     14920\n",
      "\n",
      "\n",
      "\n",
      "Accuracy: 89.66487935656836\n",
      "\n",
      "\n",
      "ROC Value: 0.7306822963957743\n"
     ]
    }
   ],
   "source": [
    "M10=XGBClassifier()\n",
    "M10.fit(X_train,y_train)\n",
    "P10=M10.predict(X_test)\n",
    "print('confusion_matrix')\n",
    "print(confusion_matrix(y_test,P10))\n",
    "print('\\n')\n",
    "print('classification_report')\n",
    "print(classification_report(y_test,P10))\n",
    "print('\\n')\n",
    "print('Accuracy:',100*accuracy_score(y_test,P10))\n",
    "print('\\n')\n",
    "print('ROC Value:',roc_auc_score(y_test,P10))"
   ]
  },
  {
   "cell_type": "markdown",
   "id": "db7b339c",
   "metadata": {},
   "source": [
    "## LGBMClassifier"
   ]
  },
  {
   "cell_type": "code",
   "execution_count": 27,
   "id": "c78abb16",
   "metadata": {},
   "outputs": [],
   "source": [
    "from lightgbm import LGBMClassifier"
   ]
  },
  {
   "cell_type": "code",
   "execution_count": 28,
   "id": "45147d11",
   "metadata": {},
   "outputs": [
    {
     "name": "stdout",
     "output_type": "stream",
     "text": [
      "confusion_matrix\n",
      "[[12492   683]\n",
      " [  794   951]]\n",
      "\n",
      "\n",
      "classification_report\n",
      "              precision    recall  f1-score   support\n",
      "\n",
      "           0       0.94      0.95      0.94     13175\n",
      "           1       0.58      0.54      0.56      1745\n",
      "\n",
      "    accuracy                           0.90     14920\n",
      "   macro avg       0.76      0.75      0.75     14920\n",
      "weighted avg       0.90      0.90      0.90     14920\n",
      "\n",
      "\n",
      "\n",
      "Accuracy: 90.10053619302948\n",
      "\n",
      "\n",
      "ROC Value: 0.7465725330709047\n"
     ]
    }
   ],
   "source": [
    "M11=LGBMClassifier()\n",
    "M11.fit(X_train,y_train)\n",
    "P11=M11.predict(X_test)\n",
    "print('confusion_matrix')\n",
    "print(confusion_matrix(y_test,P11))\n",
    "print('\\n')\n",
    "print('classification_report')\n",
    "print(classification_report(y_test,P11))\n",
    "print('\\n')\n",
    "print('Accuracy:',100*accuracy_score(y_test,P11))\n",
    "print('\\n')\n",
    "print('ROC Value:',roc_auc_score(y_test,P11))"
   ]
  },
  {
   "cell_type": "markdown",
   "id": "66cf4432",
   "metadata": {},
   "source": [
    "## Neural_network"
   ]
  },
  {
   "cell_type": "code",
   "execution_count": 29,
   "id": "5b89ef23",
   "metadata": {},
   "outputs": [],
   "source": [
    "from sklearn.neural_network import MLPClassifier"
   ]
  },
  {
   "cell_type": "code",
   "execution_count": 30,
   "id": "9c70b96a",
   "metadata": {},
   "outputs": [
    {
     "name": "stdout",
     "output_type": "stream",
     "text": [
      "confusion_matrix\n",
      "[[12543   632]\n",
      " [  937   808]]\n",
      "\n",
      "\n",
      "classification_report\n",
      "              precision    recall  f1-score   support\n",
      "\n",
      "           0       0.93      0.95      0.94     13175\n",
      "           1       0.56      0.46      0.51      1745\n",
      "\n",
      "    accuracy                           0.89     14920\n",
      "   macro avg       0.75      0.71      0.72     14920\n",
      "weighted avg       0.89      0.89      0.89     14920\n",
      "\n",
      "\n",
      "\n",
      "Accuracy: 89.48391420911528\n",
      "\n",
      "\n",
      "ROC Value: 0.7075338049074885\n"
     ]
    }
   ],
   "source": [
    "M12=MLPClassifier(hidden_layer_sizes=(500,))\n",
    "M12.fit(X_train,y_train)\n",
    "P12=M12.predict(X_test)\n",
    "print('confusion_matrix')\n",
    "print(confusion_matrix(y_test,P12))\n",
    "print('\\n')\n",
    "print('classification_report')\n",
    "print(classification_report(y_test,P12))\n",
    "print('\\n')\n",
    "print('Accuracy:',100*accuracy_score(y_test,P12))\n",
    "print('\\n')\n",
    "print('ROC Value:',roc_auc_score(y_test,P12))"
   ]
  },
  {
   "cell_type": "markdown",
   "id": "a8c9dcd1",
   "metadata": {},
   "source": [
    "## BaggingClassifier"
   ]
  },
  {
   "cell_type": "code",
   "execution_count": 31,
   "id": "5513e103",
   "metadata": {},
   "outputs": [],
   "source": [
    "from sklearn.ensemble import BaggingClassifier"
   ]
  },
  {
   "cell_type": "code",
   "execution_count": 32,
   "id": "70f5c414",
   "metadata": {},
   "outputs": [
    {
     "name": "stdout",
     "output_type": "stream",
     "text": [
      "confusion_matrix\n",
      "[[12090  1085]\n",
      " [  648  1097]]\n",
      "\n",
      "\n",
      "classification_report\n",
      "              precision    recall  f1-score   support\n",
      "\n",
      "           0       0.95      0.92      0.93     13175\n",
      "           1       0.50      0.63      0.56      1745\n",
      "\n",
      "    accuracy                           0.88     14920\n",
      "   macro avg       0.73      0.77      0.75     14920\n",
      "weighted avg       0.90      0.88      0.89     14920\n",
      "\n",
      "\n",
      "\n",
      "Accuracy: 88.38471849865952\n",
      "\n",
      "\n",
      "ROC Value: 0.7731501769762346\n"
     ]
    }
   ],
   "source": [
    "M13=BaggingClassifier(base_estimator=GradientBoostingClassifier())\n",
    "M13.fit(X_train,y_train)\n",
    "P13=M13.predict(X_test)\n",
    "print('confusion_matrix')\n",
    "print(confusion_matrix(y_test,P13))\n",
    "print('\\n')\n",
    "print('classification_report')\n",
    "print(classification_report(y_test,P13))\n",
    "print('\\n')\n",
    "print('Accuracy:',100*accuracy_score(y_test,P13))\n",
    "print('\\n')\n",
    "print('ROC Value:',roc_auc_score(y_test,P13))"
   ]
  },
  {
   "cell_type": "markdown",
   "id": "985f8964",
   "metadata": {},
   "source": [
    "## LinearSVC"
   ]
  },
  {
   "cell_type": "code",
   "execution_count": 33,
   "id": "e2f65492",
   "metadata": {},
   "outputs": [],
   "source": [
    "from sklearn.svm import LinearSVC"
   ]
  },
  {
   "cell_type": "code",
   "execution_count": 34,
   "id": "64c8f174",
   "metadata": {},
   "outputs": [
    {
     "name": "stdout",
     "output_type": "stream",
     "text": [
      "confusion_matrix\n",
      "[[12777   398]\n",
      " [ 1117   628]]\n",
      "\n",
      "\n",
      "classification_report\n",
      "              precision    recall  f1-score   support\n",
      "\n",
      "           0       0.92      0.97      0.94     13175\n",
      "           1       0.61      0.36      0.45      1745\n",
      "\n",
      "    accuracy                           0.90     14920\n",
      "   macro avg       0.77      0.66      0.70     14920\n",
      "weighted avg       0.88      0.90      0.89     14920\n",
      "\n",
      "\n",
      "\n",
      "Accuracy: 89.84584450402144\n",
      "\n",
      "\n",
      "ROC Value: 0.6648383290833665\n"
     ]
    }
   ],
   "source": [
    "M14=LinearSVC()\n",
    "M14.fit(X_train,y_train)\n",
    "P14=M14.predict(X_test)\n",
    "print('confusion_matrix')\n",
    "print(confusion_matrix(y_test,P14))\n",
    "print('\\n')\n",
    "print('classification_report')\n",
    "print(classification_report(y_test,P14))\n",
    "print('\\n')\n",
    "print('Accuracy:',100*accuracy_score(y_test,P14))\n",
    "print('\\n')\n",
    "print('ROC Value:',roc_auc_score(y_test,P14))"
   ]
  },
  {
   "cell_type": "markdown",
   "id": "2b6d3ed8",
   "metadata": {},
   "source": [
    "## SGD Classifier"
   ]
  },
  {
   "cell_type": "code",
   "execution_count": 35,
   "id": "33fcb477",
   "metadata": {},
   "outputs": [],
   "source": [
    "from sklearn.linear_model import SGDClassifier"
   ]
  },
  {
   "cell_type": "code",
   "execution_count": 36,
   "id": "5f456433",
   "metadata": {
    "scrolled": false
   },
   "outputs": [
    {
     "name": "stdout",
     "output_type": "stream",
     "text": [
      "confusion_matrix\n",
      "[[12865   310]\n",
      " [ 1258   487]]\n",
      "\n",
      "\n",
      "classification_report\n",
      "              precision    recall  f1-score   support\n",
      "\n",
      "           0       0.91      0.98      0.94     13175\n",
      "           1       0.61      0.28      0.38      1745\n",
      "\n",
      "    accuracy                           0.89     14920\n",
      "   macro avg       0.76      0.63      0.66     14920\n",
      "weighted avg       0.88      0.89      0.88     14920\n",
      "\n",
      "\n",
      "\n",
      "Accuracy: 89.4906166219839\n",
      "\n",
      "\n",
      "ROC Value: 0.627776841395584\n"
     ]
    }
   ],
   "source": [
    "M15=SGDClassifier()\n",
    "M15.fit(X_train,y_train)\n",
    "P15=M15.predict(X_test)\n",
    "print('confusion_matrix')\n",
    "print(confusion_matrix(y_test,P15))\n",
    "print('\\n')\n",
    "print('classification_report')\n",
    "print(classification_report(y_test,P15))\n",
    "print('\\n')\n",
    "print('Accuracy:',100*accuracy_score(y_test,P15))\n",
    "print('\\n')\n",
    "print('ROC Value:',roc_auc_score(y_test,P15))"
   ]
  },
  {
   "cell_type": "markdown",
   "id": "06a85c11",
   "metadata": {},
   "source": [
    "## Perceptron"
   ]
  },
  {
   "cell_type": "code",
   "execution_count": 37,
   "id": "4125a277",
   "metadata": {},
   "outputs": [],
   "source": [
    "from sklearn.linear_model import Perceptron"
   ]
  },
  {
   "cell_type": "code",
   "execution_count": 38,
   "id": "0a4298de",
   "metadata": {},
   "outputs": [
    {
     "name": "stdout",
     "output_type": "stream",
     "text": [
      "confusion_matrix\n",
      "[[10601  2574]\n",
      " [  634  1111]]\n",
      "\n",
      "\n",
      "classification_report\n",
      "              precision    recall  f1-score   support\n",
      "\n",
      "           0       0.94      0.80      0.87     13175\n",
      "           1       0.30      0.64      0.41      1745\n",
      "\n",
      "    accuracy                           0.78     14920\n",
      "   macro avg       0.62      0.72      0.64     14920\n",
      "weighted avg       0.87      0.78      0.81     14920\n",
      "\n",
      "\n",
      "\n",
      "Accuracy: 78.49865951742628\n",
      "\n",
      "\n",
      "ROC Value: 0.7206530993948554\n"
     ]
    }
   ],
   "source": [
    "M16=Perceptron()\n",
    "M16.fit(X_train,y_train)\n",
    "P16=M16.predict(X_test)\n",
    "print('confusion_matrix')\n",
    "print(confusion_matrix(y_test,P16))\n",
    "print('\\n')\n",
    "print('classification_report')\n",
    "print(classification_report(y_test,P16))\n",
    "print('\\n')\n",
    "print('Accuracy:',100*accuracy_score(y_test,P16))\n",
    "print('\\n')\n",
    "print('ROC Value:',roc_auc_score(y_test,P16))"
   ]
  },
  {
   "cell_type": "markdown",
   "id": "71bb4bd9",
   "metadata": {},
   "source": [
    "## LogisticRegressionCV"
   ]
  },
  {
   "cell_type": "code",
   "execution_count": 39,
   "id": "55517f53",
   "metadata": {},
   "outputs": [],
   "source": [
    "from sklearn.linear_model import LogisticRegressionCV"
   ]
  },
  {
   "cell_type": "code",
   "execution_count": 40,
   "id": "3e3af8a3",
   "metadata": {},
   "outputs": [
    {
     "name": "stdout",
     "output_type": "stream",
     "text": [
      "confusion_matrix\n",
      "[[12912   263]\n",
      " [ 1292   453]]\n",
      "\n",
      "\n",
      "classification_report\n",
      "              precision    recall  f1-score   support\n",
      "\n",
      "           0       0.91      0.98      0.94     13175\n",
      "           1       0.63      0.26      0.37      1745\n",
      "\n",
      "    accuracy                           0.90     14920\n",
      "   macro avg       0.77      0.62      0.66     14920\n",
      "weighted avg       0.88      0.90      0.88     14920\n",
      "\n",
      "\n",
      "\n",
      "Accuracy: 89.57774798927613\n",
      "\n",
      "\n",
      "ROC Value: 0.6198184022661657\n"
     ]
    }
   ],
   "source": [
    "M17=LogisticRegressionCV()\n",
    "M17.fit(X_train,y_train)\n",
    "P17=M17.predict(X_test)\n",
    "print('confusion_matrix')\n",
    "print(confusion_matrix(y_test,P17))\n",
    "print('\\n')\n",
    "print('classification_report')\n",
    "print(classification_report(y_test,P17))\n",
    "print('\\n')\n",
    "print('Accuracy:',100*accuracy_score(y_test,P17))\n",
    "print('\\n')\n",
    "print('ROC Value:',roc_auc_score(y_test,P17))"
   ]
  },
  {
   "cell_type": "markdown",
   "id": "e89ccc38",
   "metadata": {},
   "source": [
    "## CalibratedClassifierCV"
   ]
  },
  {
   "cell_type": "code",
   "execution_count": 41,
   "id": "cb01e016",
   "metadata": {},
   "outputs": [],
   "source": [
    "from sklearn.calibration import CalibratedClassifierCV"
   ]
  },
  {
   "cell_type": "code",
   "execution_count": 42,
   "id": "ef0d67cd",
   "metadata": {},
   "outputs": [
    {
     "name": "stdout",
     "output_type": "stream",
     "text": [
      "confusion_matrix\n",
      "[[10027  3148]\n",
      " [  758   987]]\n",
      "\n",
      "\n",
      "classification_report\n",
      "              precision    recall  f1-score   support\n",
      "\n",
      "           0       0.93      0.76      0.84     13175\n",
      "           1       0.24      0.57      0.34      1745\n",
      "\n",
      "    accuracy                           0.74     14920\n",
      "   macro avg       0.58      0.66      0.59     14920\n",
      "weighted avg       0.85      0.74      0.78     14920\n",
      "\n",
      "\n",
      "\n",
      "Accuracy: 73.82037533512064\n",
      "\n",
      "\n",
      "ROC Value: 0.6633393322205489\n"
     ]
    }
   ],
   "source": [
    "M18=CalibratedClassifierCV(M6, cv=2)\n",
    "M18.fit(X_train,y_train)\n",
    "P18=M18.predict(X_test)\n",
    "print('confusion_matrix')\n",
    "print(confusion_matrix(y_test,P18))\n",
    "print('\\n')\n",
    "print('classification_report')\n",
    "print(classification_report(y_test,P18))\n",
    "print('\\n')\n",
    "print('Accuracy:',100*accuracy_score(y_test,P18))\n",
    "print('\\n')\n",
    "print('ROC Value:',roc_auc_score(y_test,P18))"
   ]
  },
  {
   "cell_type": "markdown",
   "id": "212b338e",
   "metadata": {},
   "source": [
    "## PassiveAggressiveClassifier"
   ]
  },
  {
   "cell_type": "code",
   "execution_count": 43,
   "id": "53c32aa0",
   "metadata": {},
   "outputs": [],
   "source": [
    "from sklearn.linear_model import PassiveAggressiveClassifier"
   ]
  },
  {
   "cell_type": "code",
   "execution_count": 44,
   "id": "6124d9a6",
   "metadata": {},
   "outputs": [
    {
     "name": "stdout",
     "output_type": "stream",
     "text": [
      "confusion_matrix\n",
      "[[12181   994]\n",
      " [ 1009   736]]\n",
      "\n",
      "\n",
      "classification_report\n",
      "              precision    recall  f1-score   support\n",
      "\n",
      "           0       0.92      0.92      0.92     13175\n",
      "           1       0.43      0.42      0.42      1745\n",
      "\n",
      "    accuracy                           0.87     14920\n",
      "   macro avg       0.67      0.67      0.67     14920\n",
      "weighted avg       0.87      0.87      0.87     14920\n",
      "\n",
      "\n",
      "\n",
      "Accuracy: 86.57506702412869\n",
      "\n",
      "\n",
      "ROC Value: 0.6731652919971945\n"
     ]
    }
   ],
   "source": [
    "M19=PassiveAggressiveClassifier(max_iter=5000, random_state=0,tol=1e-3)\n",
    "M19.fit(X_train,y_train)\n",
    "P19=M19.predict(X_test)\n",
    "print('confusion_matrix')\n",
    "print(confusion_matrix(y_test,P19))\n",
    "print('\\n')\n",
    "print('classification_report')\n",
    "print(classification_report(y_test,P19))\n",
    "print('\\n')\n",
    "print('Accuracy:',100*accuracy_score(y_test,P19))\n",
    "print('\\n')\n",
    "print('ROC Value:',roc_auc_score(y_test,P19))"
   ]
  },
  {
   "cell_type": "markdown",
   "id": "5e998b1d",
   "metadata": {},
   "source": [
    "## QuadraticDiscriminantAnalysis"
   ]
  },
  {
   "cell_type": "code",
   "execution_count": 45,
   "id": "9d9328d2",
   "metadata": {},
   "outputs": [],
   "source": [
    "from sklearn.discriminant_analysis import QuadraticDiscriminantAnalysis"
   ]
  },
  {
   "cell_type": "code",
   "execution_count": 46,
   "id": "d6abc750",
   "metadata": {},
   "outputs": [
    {
     "name": "stdout",
     "output_type": "stream",
     "text": [
      "confusion_matrix\n",
      "[[13170     5]\n",
      " [ 1744     1]]\n",
      "\n",
      "\n",
      "classification_report\n",
      "              precision    recall  f1-score   support\n",
      "\n",
      "           0       0.88      1.00      0.94     13175\n",
      "           1       0.17      0.00      0.00      1745\n",
      "\n",
      "    accuracy                           0.88     14920\n",
      "   macro avg       0.52      0.50      0.47     14920\n",
      "weighted avg       0.80      0.88      0.83     14920\n",
      "\n",
      "\n",
      "\n",
      "Accuracy: 88.27747989276139\n",
      "\n",
      "\n",
      "ROC Value: 0.5000967796306063\n"
     ]
    }
   ],
   "source": [
    "M20=QuadraticDiscriminantAnalysis()\n",
    "M20.fit(X_train,y_train)\n",
    "P20=M20.predict(X_test)\n",
    "print('confusion_matrix')\n",
    "print(confusion_matrix(y_test,P20))\n",
    "print('\\n')\n",
    "print('classification_report')\n",
    "print(classification_report(y_test,P20))\n",
    "print('\\n')\n",
    "print('Accuracy:',100*accuracy_score(y_test,P20))\n",
    "print('\\n')\n",
    "print('ROC Value:',roc_auc_score(y_test,P20))"
   ]
  },
  {
   "cell_type": "markdown",
   "id": "7a007490",
   "metadata": {},
   "source": [
    "## RidgeClassifierCV "
   ]
  },
  {
   "cell_type": "code",
   "execution_count": 47,
   "id": "447952d2",
   "metadata": {},
   "outputs": [],
   "source": [
    "from sklearn.linear_model import RidgeClassifierCV"
   ]
  },
  {
   "cell_type": "code",
   "execution_count": 48,
   "id": "855199ac",
   "metadata": {},
   "outputs": [
    {
     "name": "stdout",
     "output_type": "stream",
     "text": [
      "confusion_matrix\n",
      "[[12977   198]\n",
      " [ 1357   388]]\n",
      "\n",
      "\n",
      "classification_report\n",
      "              precision    recall  f1-score   support\n",
      "\n",
      "           0       0.91      0.98      0.94     13175\n",
      "           1       0.66      0.22      0.33      1745\n",
      "\n",
      "    accuracy                           0.90     14920\n",
      "   macro avg       0.78      0.60      0.64     14920\n",
      "weighted avg       0.88      0.90      0.87     14920\n",
      "\n",
      "\n",
      "\n",
      "Accuracy: 89.57774798927613\n",
      "\n",
      "\n",
      "ROC Value: 0.6036605536012354\n"
     ]
    }
   ],
   "source": [
    "M21=RidgeClassifierCV()\n",
    "M21.fit(X_train,y_train)\n",
    "P21=M21.predict(X_test)\n",
    "print('confusion_matrix')\n",
    "print(confusion_matrix(y_test,P21))\n",
    "print('\\n')\n",
    "print('classification_report')\n",
    "print(classification_report(y_test,P21))\n",
    "print('\\n')\n",
    "print('Accuracy:',100*accuracy_score(y_test,P21))\n",
    "print('\\n')\n",
    "print('ROC Value:',roc_auc_score(y_test,P21))"
   ]
  },
  {
   "cell_type": "markdown",
   "id": "d5f5584d",
   "metadata": {},
   "source": [
    "## RidgeClassifier"
   ]
  },
  {
   "cell_type": "code",
   "execution_count": 49,
   "id": "ea39e38e",
   "metadata": {},
   "outputs": [],
   "source": [
    "from sklearn.linear_model import RidgeClassifier"
   ]
  },
  {
   "cell_type": "code",
   "execution_count": 50,
   "id": "df173f20",
   "metadata": {},
   "outputs": [
    {
     "name": "stdout",
     "output_type": "stream",
     "text": [
      "confusion_matrix\n",
      "[[12977   198]\n",
      " [ 1356   389]]\n",
      "\n",
      "\n",
      "classification_report\n",
      "              precision    recall  f1-score   support\n",
      "\n",
      "           0       0.91      0.98      0.94     13175\n",
      "           1       0.66      0.22      0.33      1745\n",
      "\n",
      "    accuracy                           0.90     14920\n",
      "   macro avg       0.78      0.60      0.64     14920\n",
      "weighted avg       0.88      0.90      0.87     14920\n",
      "\n",
      "\n",
      "\n",
      "Accuracy: 89.58445040214478\n",
      "\n",
      "\n",
      "ROC Value: 0.6039470865525246\n"
     ]
    }
   ],
   "source": [
    "M22=RidgeClassifier()\n",
    "M22.fit(X_train,y_train)\n",
    "P22=M22.predict(X_test)\n",
    "print('confusion_matrix')\n",
    "print(confusion_matrix(y_test,P22))\n",
    "print('\\n')\n",
    "print('classification_report')\n",
    "print(classification_report(y_test,P22))\n",
    "print('\\n')\n",
    "print('Accuracy:',100*accuracy_score(y_test,P22))\n",
    "print('\\n')\n",
    "print('ROC Value:',roc_auc_score(y_test,P22))"
   ]
  },
  {
   "cell_type": "markdown",
   "id": "9c64ae71",
   "metadata": {},
   "source": [
    "## ExtraTreesClassifier"
   ]
  },
  {
   "cell_type": "code",
   "execution_count": 51,
   "id": "56e36526",
   "metadata": {},
   "outputs": [],
   "source": [
    "from sklearn.ensemble import ExtraTreesClassifier"
   ]
  },
  {
   "cell_type": "code",
   "execution_count": 52,
   "id": "ec13984d",
   "metadata": {
    "scrolled": false
   },
   "outputs": [
    {
     "name": "stdout",
     "output_type": "stream",
     "text": [
      "confusion_matrix\n",
      "[[12723   452]\n",
      " [ 1101   644]]\n",
      "\n",
      "\n",
      "classification_report\n",
      "              precision    recall  f1-score   support\n",
      "\n",
      "           0       0.92      0.97      0.94     13175\n",
      "           1       0.59      0.37      0.45      1745\n",
      "\n",
      "    accuracy                           0.90     14920\n",
      "   macro avg       0.75      0.67      0.70     14920\n",
      "weighted avg       0.88      0.90      0.89     14920\n",
      "\n",
      "\n",
      "\n",
      "Accuracy: 89.5911528150134\n",
      "\n",
      "\n",
      "ROC Value: 0.6673735204406193\n"
     ]
    }
   ],
   "source": [
    "M23=ExtraTreesClassifier()\n",
    "M23.fit(X_train,y_train)\n",
    "P23=M23.predict(X_test)\n",
    "print('confusion_matrix')\n",
    "print(confusion_matrix(y_test,P23))\n",
    "print('\\n')\n",
    "print('classification_report')\n",
    "print(classification_report(y_test,P23))\n",
    "print('\\n')\n",
    "print('Accuracy:',100*accuracy_score(y_test,P23))\n",
    "print('\\n')\n",
    "print('ROC Value:',roc_auc_score(y_test,P23))"
   ]
  },
  {
   "cell_type": "markdown",
   "id": "ed7d4353",
   "metadata": {},
   "source": [
    "## BernoulliNB"
   ]
  },
  {
   "cell_type": "code",
   "execution_count": 53,
   "id": "a02d3084",
   "metadata": {},
   "outputs": [],
   "source": [
    "from sklearn.naive_bayes import BernoulliNB"
   ]
  },
  {
   "cell_type": "code",
   "execution_count": 54,
   "id": "cf287002",
   "metadata": {},
   "outputs": [
    {
     "name": "stdout",
     "output_type": "stream",
     "text": [
      "confusion_matrix\n",
      "[[11889  1286]\n",
      " [ 1102   643]]\n",
      "\n",
      "\n",
      "classification_report\n",
      "              precision    recall  f1-score   support\n",
      "\n",
      "           0       0.92      0.90      0.91     13175\n",
      "           1       0.33      0.37      0.35      1745\n",
      "\n",
      "    accuracy                           0.84     14920\n",
      "   macro avg       0.62      0.64      0.63     14920\n",
      "weighted avg       0.85      0.84      0.84     14920\n",
      "\n",
      "\n",
      "\n",
      "Accuracy: 83.99463806970509\n",
      "\n",
      "\n",
      "ROC Value: 0.6354361335993867\n"
     ]
    }
   ],
   "source": [
    "M24=BernoulliNB()\n",
    "M24.fit(X_train,y_train)\n",
    "P24=M24.predict(X_test)\n",
    "print('confusion_matrix')\n",
    "print(confusion_matrix(y_test,P24))\n",
    "print('\\n')\n",
    "print('classification_report')\n",
    "print(classification_report(y_test,P24))\n",
    "print('\\n')\n",
    "print('Accuracy:',100*accuracy_score(y_test,P24))\n",
    "print('\\n')\n",
    "print('ROC Value:',roc_auc_score(y_test,P24))"
   ]
  },
  {
   "cell_type": "markdown",
   "id": "65c0736a",
   "metadata": {},
   "source": [
    "## LinearDiscriminantAnalysis "
   ]
  },
  {
   "cell_type": "code",
   "execution_count": 55,
   "id": "77fa253a",
   "metadata": {},
   "outputs": [],
   "source": [
    "from sklearn.discriminant_analysis import LinearDiscriminantAnalysis"
   ]
  },
  {
   "cell_type": "code",
   "execution_count": 56,
   "id": "e88ead8e",
   "metadata": {},
   "outputs": [
    {
     "name": "stdout",
     "output_type": "stream",
     "text": [
      "confusion_matrix\n",
      "[[12977   198]\n",
      " [ 1357   388]]\n",
      "\n",
      "\n",
      "classification_report\n",
      "              precision    recall  f1-score   support\n",
      "\n",
      "           0       0.91      0.98      0.94     13175\n",
      "           1       0.66      0.22      0.33      1745\n",
      "\n",
      "    accuracy                           0.90     14920\n",
      "   macro avg       0.78      0.60      0.64     14920\n",
      "weighted avg       0.88      0.90      0.87     14920\n",
      "\n",
      "\n",
      "\n",
      "Accuracy: 89.57774798927613\n",
      "\n",
      "\n",
      "ROC Value: 0.6036605536012354\n"
     ]
    }
   ],
   "source": [
    "M25=LinearDiscriminantAnalysis()\n",
    "M25.fit(X_train,y_train)\n",
    "P25=M25.predict(X_test)\n",
    "print('confusion_matrix')\n",
    "print(confusion_matrix(y_test,P25))\n",
    "print('\\n')\n",
    "print('classification_report')\n",
    "print(classification_report(y_test,P25))\n",
    "print('\\n')\n",
    "print('Accuracy:',100*accuracy_score(y_test,P25))\n",
    "print('\\n')\n",
    "print('ROC Value:',roc_auc_score(y_test,P25))"
   ]
  },
  {
   "cell_type": "markdown",
   "id": "6fe5fa75",
   "metadata": {},
   "source": [
    "## NuSVC"
   ]
  },
  {
   "cell_type": "code",
   "execution_count": 57,
   "id": "af02f296",
   "metadata": {},
   "outputs": [],
   "source": [
    "from sklearn.svm import NuSVC"
   ]
  },
  {
   "cell_type": "code",
   "execution_count": 58,
   "id": "19568f5d",
   "metadata": {},
   "outputs": [
    {
     "name": "stdout",
     "output_type": "stream",
     "text": [
      "confusion_matrix\n",
      "[[13123    52]\n",
      " [ 1609   136]]\n",
      "\n",
      "\n",
      "classification_report\n",
      "              precision    recall  f1-score   support\n",
      "\n",
      "           0       0.89      1.00      0.94     13175\n",
      "           1       0.72      0.08      0.14      1745\n",
      "\n",
      "    accuracy                           0.89     14920\n",
      "   macro avg       0.81      0.54      0.54     14920\n",
      "weighted avg       0.87      0.89      0.85     14920\n",
      "\n",
      "\n",
      "\n",
      "Accuracy: 88.86729222520108\n",
      "\n",
      "\n",
      "ROC Value: 0.5369950468402538\n"
     ]
    }
   ],
   "source": [
    "M26=NuSVC()\n",
    "M26.fit(X_train,y_train)\n",
    "P26=M26.predict(X_test)\n",
    "print('confusion_matrix')\n",
    "print(confusion_matrix(y_test,P26))\n",
    "print('\\n')\n",
    "print('classification_report')\n",
    "print(classification_report(y_test,P26))\n",
    "print('\\n')\n",
    "print('Accuracy:',100*accuracy_score(y_test,P26))\n",
    "print('\\n')\n",
    "print('ROC Value:',roc_auc_score(y_test,P26))"
   ]
  },
  {
   "cell_type": "markdown",
   "id": "553f372a",
   "metadata": {},
   "source": [
    "## NearestCentroid"
   ]
  },
  {
   "cell_type": "code",
   "execution_count": 59,
   "id": "549f31de",
   "metadata": {},
   "outputs": [],
   "source": [
    "from sklearn.neighbors import NearestCentroid"
   ]
  },
  {
   "cell_type": "code",
   "execution_count": 60,
   "id": "2ce14a3d",
   "metadata": {},
   "outputs": [
    {
     "name": "stdout",
     "output_type": "stream",
     "text": [
      "confusion_matrix\n",
      "[[10261  2914]\n",
      " [  864   881]]\n",
      "\n",
      "\n",
      "classification_report\n",
      "              precision    recall  f1-score   support\n",
      "\n",
      "           0       0.92      0.78      0.84     13175\n",
      "           1       0.23      0.50      0.32      1745\n",
      "\n",
      "    accuracy                           0.75     14920\n",
      "   macro avg       0.58      0.64      0.58     14920\n",
      "weighted avg       0.84      0.75      0.78     14920\n",
      "\n",
      "\n",
      "\n",
      "Accuracy: 74.67828418230563\n",
      "\n",
      "\n",
      "ROC Value: 0.6418472947918422\n"
     ]
    }
   ],
   "source": [
    "M27=NearestCentroid()\n",
    "M27.fit(X_train,y_train)\n",
    "P27=M27.predict(X_test)\n",
    "print('confusion_matrix')\n",
    "print(confusion_matrix(y_test,P27))\n",
    "print('\\n')\n",
    "print('classification_report')\n",
    "print(classification_report(y_test,P27))\n",
    "print('\\n')\n",
    "print('Accuracy:',100*accuracy_score(y_test,P27))\n",
    "print('\\n')\n",
    "print('ROC Value:',roc_auc_score(y_test,P27))"
   ]
  },
  {
   "cell_type": "markdown",
   "id": "5e7055fc",
   "metadata": {},
   "source": [
    "## DummyClassifier"
   ]
  },
  {
   "cell_type": "code",
   "execution_count": 61,
   "id": "0434b37d",
   "metadata": {},
   "outputs": [],
   "source": [
    "from sklearn.dummy import DummyClassifier"
   ]
  },
  {
   "cell_type": "code",
   "execution_count": 62,
   "id": "81a68b17",
   "metadata": {},
   "outputs": [
    {
     "name": "stdout",
     "output_type": "stream",
     "text": [
      "confusion_matrix\n",
      "[[13175     0]\n",
      " [ 1745     0]]\n",
      "\n",
      "\n",
      "classification_report\n",
      "              precision    recall  f1-score   support\n",
      "\n",
      "           0       0.88      1.00      0.94     13175\n",
      "           1       0.00      0.00      0.00      1745\n",
      "\n",
      "    accuracy                           0.88     14920\n",
      "   macro avg       0.44      0.50      0.47     14920\n",
      "weighted avg       0.78      0.88      0.83     14920\n",
      "\n",
      "\n",
      "\n",
      "Accuracy: 88.30428954423593\n",
      "\n",
      "\n",
      "ROC Value: 0.5\n"
     ]
    }
   ],
   "source": [
    "M28=DummyClassifier()\n",
    "M28.fit(X_train,y_train)\n",
    "P28=M28.predict(X_test)\n",
    "print('confusion_matrix')\n",
    "print(confusion_matrix(y_test,P28))\n",
    "print('\\n')\n",
    "print('classification_report')\n",
    "print(classification_report(y_test,P28))\n",
    "print('\\n')\n",
    "print('Accuracy:',100*accuracy_score(y_test,P28))\n",
    "print('\\n')\n",
    "print('ROC Value:',roc_auc_score(y_test,P28))"
   ]
  },
  {
   "cell_type": "code",
   "execution_count": 63,
   "id": "8a4d86d9",
   "metadata": {},
   "outputs": [],
   "source": [
    "Name=['Logistic Regression','Random Forest Classifier','Decision Tree','Naive Bayes classifier', 'SVM','KNN', \n",
    "      'GBBoosting','Histogram Boosting Classifier','XGB Boosting','Light GBM',\n",
    "      'CAT Boosting','Neural_Network','Bagging_classifier','LinearSVC','SGD Classifier','Perceptron','LogisticRegressionCV',\n",
    "     'CalibratedClassifierCV','PassiveAggressiveClassifier','QuadraticDiscriminantAnalysis','RidgeClassifierCV',\n",
    "     'RidgeClassifier','ExtraTreesClassifier','BernoulliNB','LinearDiscriminantAnalysis ','NuSVC','NearestCentroid',\n",
    "      'DummyClassifier']\n",
    "clfs= [LogisticRegression(),RandomForestClassifier(),DecisionTreeClassifier(),GaussianNB(),SVC(),KNeighborsClassifier(n_neighbors=2),\n",
    "      GradientBoostingClassifier(n_estimators=100, learning_rate=1.0, max_depth=1),\n",
    "       HistGradientBoostingClassifier(),XGBClassifier(),LGBMClassifier(),MLPClassifier(),\n",
    "       CatBoostClassifier(verbose=0),BaggingClassifier(base_estimator=GradientBoostingClassifier()),LinearSVC(),SGDClassifier(),\n",
    "      Perceptron(),LogisticRegressionCV(),CalibratedClassifierCV(GaussianNB(), cv=2),\n",
    "       PassiveAggressiveClassifier(max_iter=1000, random_state=0,tol=1e-3),QuadraticDiscriminantAnalysis(),\n",
    "      RidgeClassifierCV(),RidgeClassifier(),ExtraTreesClassifier(),BernoulliNB(),LinearDiscriminantAnalysis(),NuSVC(),\n",
    "       NearestCentroid(),DummyClassifier()]"
   ]
  },
  {
   "cell_type": "code",
   "execution_count": 64,
   "id": "6b355b36",
   "metadata": {},
   "outputs": [],
   "source": [
    "Roc_score=[]\n",
    "Accuracy_score=[]\n",
    "Balenced_accuracy=[]\n",
    "F1_score=[]\n",
    "Confusion_metrix=[]\n",
    "Classification_Report=[]\n",
    "\n",
    "for i in clfs:\n",
    "    i.fit(X_train,y_train)\n",
    "    \n",
    "    Roc_value=roc_auc_score(y_test,i.predict(X_test))\n",
    "    acc_value=100*accuracy_score(y_test,i.predict(X_test))\n",
    "    Bal_acc_value=balanced_accuracy_score(y_test,i.predict(X_test))\n",
    "    F1_value=f1_score(y_test,i.predict(X_test))\n",
    "    Confusion_metrix_value=confusion_matrix(y_test,i.predict(X_test))\n",
    "    Classification_Report_value=classification_report(y_test,i.predict(X_test))\n",
    "    \n",
    "    Roc_score.append(Roc_value)\n",
    "    Accuracy_score.append(acc_value)\n",
    "    Balenced_accuracy.append(Bal_acc_value)\n",
    "    F1_score.append(F1_value)\n",
    "    Confusion_metrix.append(Confusion_metrix_value)\n",
    "    Classification_Report.append(Classification_Report_value)"
   ]
  },
  {
   "cell_type": "code",
   "execution_count": 65,
   "id": "dcce1674",
   "metadata": {
    "scrolled": false
   },
   "outputs": [
    {
     "name": "stdout",
     "output_type": "stream",
     "text": [
      "                                   AROC   Accuracy  Bal Accu  F1 Score\n",
      "Bagging_classifier             0.774793  88.411528  0.774793  0.560610\n",
      "Histogram Boosting Classifier  0.748537  90.227882  0.748537  0.567359\n",
      "Light GBM                      0.746573  90.100536  0.746573  0.562888\n",
      "Neural_Network                 0.737219  90.160858  0.737219  0.554070\n",
      "XGB Boosting                   0.730682  89.664879  0.730682  0.537770\n",
      "Perceptron                     0.720653  78.498660  0.720653  0.409208\n",
      "Random Forest Classifier       0.713134  89.550938  0.713134  0.515387\n",
      "GBBoosting                     0.710970  89.168901  0.710970  0.506414\n",
      "CAT Boosting                   0.695949  89.852547  0.695949  0.498675\n",
      "Decision Tree                  0.678769  84.798928  0.678769  0.413347\n",
      "PassiveAggressiveClassifier    0.673165  86.575067  0.673165  0.423597\n",
      "Logistic Regression            0.669055  89.624665  0.669055  0.456461\n",
      "ExtraTreesClassifier           0.667229  89.390080  0.667229  0.450156\n",
      "LinearSVC                      0.664838  89.845845  0.664838  0.453266\n",
      "CalibratedClassifierCV         0.663339  73.820375  0.663339  0.335714\n",
      "NearestCentroid                0.641847  74.678284  0.641847  0.318051\n",
      "Naive Bayes classifier         0.639921  73.679625  0.639921  0.313341\n",
      "BernoulliNB                    0.635436  83.994638  0.635436  0.350027\n",
      "SVM                            0.624124  89.504021  0.624124  0.376096\n",
      "SGD Classifier                 0.623800  89.490617  0.623800  0.375299\n",
      "LogisticRegressionCV           0.619818  89.577748  0.619818  0.368143\n",
      "RidgeClassifier                0.603947  89.584450  0.603947  0.333619\n",
      "RidgeClassifierCV              0.603661  89.577748  0.603661  0.332904\n",
      "LinearDiscriminantAnalysis     0.603661  89.577748  0.603661  0.332904\n",
      "KNN                            0.601858  88.820375  0.601858  0.323052\n",
      "NuSVC                          0.536995  88.867292  0.536995  0.140714\n",
      "QuadraticDiscriminantAnalysis  0.500097  88.277480  0.500097  0.001142\n",
      "DummyClassifier                0.500000  88.304290  0.500000  0.000000\n"
     ]
    }
   ],
   "source": [
    "dict={'AROC':Roc_score ,'Accuracy':Accuracy_score,'Bal Accu':Balenced_accuracy,'F1 Score':F1_score}\n",
    "score = pd.DataFrame(dict, index=Name)\n",
    "score=score.sort_values(by='AROC',ascending=False)\n",
    "print(score)"
   ]
  },
  {
   "cell_type": "code",
   "execution_count": 66,
   "id": "3d3fee5a",
   "metadata": {
    "scrolled": false
   },
   "outputs": [
    {
     "data": {
      "image/png": "[encoded data removed]",
      "text/plain": [
       "<Figure size 432x288 with 2 Axes>"
      ]
     },
     "metadata": {
      "needs_background": "light"
     },
     "output_type": "display_data"
    },
    {
     "data": {
      "image/png": "[encoded data removed]",
      "text/plain": [
       "<Figure size 432x288 with 2 Axes>"
      ]
     },
     "metadata": {
      "needs_background": "light"
     },
     "output_type": "display_data"
    },
    {
     "data": {
      "image/png": "[encoded data removed]",
      "text/plain": [
       "<Figure size 432x288 with 2 Axes>"
      ]
     },
     "metadata": {
      "needs_background": "light"
     },
     "output_type": "display_data"
    },
    {
     "data": {
      "image/png": "[encoded data removed]",
      "text/plain": [
       "<Figure size 432x288 with 2 Axes>"
      ]
     },
     "metadata": {
      "needs_background": "light"
     },
     "output_type": "display_data"
    },
    {
     "data": {
      "image/png": "[encoded data removed]",
      "text/plain": [
       "<Figure size 432x288 with 2 Axes>"
      ]
     },
     "metadata": {
      "needs_background": "light"
     },
     "output_type": "display_data"
    },
    {
     "data": {
      "image/png": "[encoded data removed]",
      "text/plain": [
       "<Figure size 432x288 with 2 Axes>"
      ]
     },
     "metadata": {
      "needs_background": "light"
     },
     "output_type": "display_data"
    },
    {
     "data": {
      "image/png": "[encoded data removed]",
      "text/plain": [
       "<Figure size 432x288 with 2 Axes>"
      ]
     },
     "metadata": {
      "needs_background": "light"
     },
     "output_type": "display_data"
    },
    {
     "data": {
      "image/png": "[encoded data removed]",
      "text/plain": [
       "<Figure size 432x288 with 2 Axes>"
      ]
     },
     "metadata": {
      "needs_background": "light"
     },
     "output_type": "display_data"
    },
    {
     "data": {
      "image/png": "[encoded data removed]",
      "text/plain": [
       "<Figure size 432x288 with 2 Axes>"
      ]
     },
     "metadata": {
      "needs_background": "light"
     },
     "output_type": "display_data"
    },
    {
     "data": {
      "image/png": "[encoded data removed]",
      "text/plain": [
       "<Figure size 432x288 with 2 Axes>"
      ]
     },
     "metadata": {
      "needs_background": "light"
     },
     "output_type": "display_data"
    },
    {
     "data": {
      "image/png": "[encoded data removed]",
      "text/plain": [
       "<Figure size 432x288 with 2 Axes>"
      ]
     },
     "metadata": {
      "needs_background": "light"
     },
     "output_type": "display_data"
    },
    {
     "data": {
      "image/png": "[encoded data removed]",
      "text/plain": [
       "<Figure size 432x288 with 2 Axes>"
      ]
     },
     "metadata": {
      "needs_background": "light"
     },
     "output_type": "display_data"
    },
    {
     "data": {
      "image/png": "[encoded data removed]",
      "text/plain": [
       "<Figure size 432x288 with 2 Axes>"
      ]
     },
     "metadata": {
      "needs_background": "light"
     },
     "output_type": "display_data"
    },
    {
     "data": {
      "image/png": "[encoded data removed]",
      "text/plain": [
       "<Figure size 432x288 with 2 Axes>"
      ]
     },
     "metadata": {
      "needs_background": "light"
     },
     "output_type": "display_data"
    },
    {
     "data": {
      "image/png": "[encoded data removed]",
      "text/plain": [
       "<Figure size 432x288 with 2 Axes>"
      ]
     },
     "metadata": {
      "needs_background": "light"
     },
     "output_type": "display_data"
    },
    {
     "data": {
      "image/png": "[encoded data removed]",
      "text/plain": [
       "<Figure size 432x288 with 2 Axes>"
      ]
     },
     "metadata": {
      "needs_background": "light"
     },
     "output_type": "display_data"
    },
    {
     "data": {
      "image/png": "[encoded data removed]",
      "text/plain": [
       "<Figure size 432x288 with 2 Axes>"
      ]
     },
     "metadata": {
      "needs_background": "light"
     },
     "output_type": "display_data"
    },
    {
     "data": {
      "image/png": "[encoded data removed]",
      "text/plain": [
       "<Figure size 432x288 with 2 Axes>"
      ]
     },
     "metadata": {
      "needs_background": "light"
     },
     "output_type": "display_data"
    },
    {
     "data": {
      "image/png": "[encoded data removed]",
      "text/plain": [
       "<Figure size 432x288 with 2 Axes>"
      ]
     },
     "metadata": {
      "needs_background": "light"
     },
     "output_type": "display_data"
    },
    {
     "data": {
      "image/png": "[encoded data removed]",
      "text/plain": [
       "<Figure size 432x288 with 2 Axes>"
      ]
     },
     "metadata": {
      "needs_background": "light"
     },
     "output_type": "display_data"
    },
    {
     "data": {
      "image/png": "[encoded data removed]",
      "text/plain": [
       "<Figure size 432x288 with 2 Axes>"
      ]
     },
     "metadata": {
      "needs_background": "light"
     },
     "output_type": "display_data"
    },
    {
     "data": {
      "image/png": "[encoded data removed]",
      "text/plain": [
       "<Figure size 432x288 with 2 Axes>"
      ]
     },
     "metadata": {
      "needs_background": "light"
     },
     "output_type": "display_data"
    },
    {
     "data": {
      "image/png": "[encoded data removed]",
      "text/plain": [
       "<Figure size 432x288 with 2 Axes>"
      ]
     },
     "metadata": {
      "needs_background": "light"
     },
     "output_type": "display_data"
    },
    {
     "data": {
      "image/png": "[encoded data removed]",
      "text/plain": [
       "<Figure size 432x288 with 2 Axes>"
      ]
     },
     "metadata": {
      "needs_background": "light"
     },
     "output_type": "display_data"
    },
    {
     "data": {
      "image/png": "[encoded data removed]",
      "text/plain": [
       "<Figure size 432x288 with 2 Axes>"
      ]
     },
     "metadata": {
      "needs_background": "light"
     },
     "output_type": "display_data"
    },
    {
     "data": {
      "image/png": "[encoded data removed]",
      "text/plain": [
       "<Figure size 432x288 with 2 Axes>"
      ]
     },
     "metadata": {
      "needs_background": "light"
     },
     "output_type": "display_data"
    },
    {
     "data": {
      "image/png": "[encoded data removed]",
      "text/plain": [
       "<Figure size 432x288 with 2 Axes>"
      ]
     },
     "metadata": {
      "needs_background": "light"
     },
     "output_type": "display_data"
    },
    {
     "data": {
      "image/png": "[encoded data removed]",
      "text/plain": [
       "<Figure size 432x288 with 2 Axes>"
      ]
     },
     "metadata": {
      "needs_background": "light"
     },
     "output_type": "display_data"
    }
   ],
   "source": [
    "for i in range (len(Confusion_metrix)):\n",
    "    ax = plt.axes()\n",
    "    ax.set_title(Name[i])\n",
    "    sns.heatmap(Confusion_metrix[i],annot=True,cmap=\"YlGnBu\",ax=ax)\n",
    "    ax.set_xlabel('Predicted Values')\n",
    "    ax.set_ylabel('Actual Values')\n",
    "    plt.show()"
   ]
  },
  {
   "cell_type": "code",
   "execution_count": 67,
   "id": "c22c2ebf",
   "metadata": {
    "scrolled": true
   },
   "outputs": [
    {
     "data": {
      "text/plain": [
       "<sklearn.metrics._plot.roc_curve.RocCurveDisplay at 0x1dbd9f9c7f0>"
      ]
     },
     "execution_count": 67,
     "metadata": {},
     "output_type": "execute_result"
    },
    {
     "data": {
      "image/png": "[encoded data removed]",
      "text/plain": [
       "<Figure size 432x288 with 1 Axes>"
      ]
     },
     "metadata": {
      "needs_background": "light"
     },
     "output_type": "display_data"
    }
   ],
   "source": [
    "from sklearn.metrics import roc_curve, auc, RocCurveDisplay\n",
    "RocCurveDisplay.from_estimator(M13, X_test, y_test)"
   ]
  },
  {
   "cell_type": "markdown",
   "id": "e4c778bc",
   "metadata": {},
   "source": [
    "## Cross Validation"
   ]
  },
  {
   "cell_type": "code",
   "execution_count": 68,
   "id": "2ee5bcd9",
   "metadata": {},
   "outputs": [],
   "source": [
    "from sklearn.model_selection import KFold,cross_val_score"
   ]
  },
  {
   "cell_type": "code",
   "execution_count": 69,
   "id": "95e7274f",
   "metadata": {},
   "outputs": [],
   "source": [
    "kfold=KFold(n_splits=5,shuffle=False, random_state=None)\n",
    "kfold=KFold(n_splits=5,shuffle=False, random_state=None)\n",
    "results_mean=[]\n",
    "\n",
    "for i in clfs:\n",
    "    csv=cross_val_score(i,X_train,y_train,cv=kfold)\n",
    "    mean_score=csv.mean()\n",
    "    results_mean.append(mean_score)\n",
    "\n",
    "score= pd.DataFrame(results_mean,index=Name)\n",
    "score.columns=['Accuracy']"
   ]
  },
  {
   "cell_type": "code",
   "execution_count": 70,
   "id": "0e730269",
   "metadata": {},
   "outputs": [
    {
     "data": {
      "text/html": [
       "<div>\n",
       "<style scoped>\n",
       "    .dataframe tbody tr th:only-of-type {\n",
       "        vertical-align: middle;\n",
       "    }\n",
       "\n",
       "    .dataframe tbody tr th {\n",
       "        vertical-align: top;\n",
       "    }\n",
       "\n",
       "    .dataframe thead th {\n",
       "        text-align: right;\n",
       "    }\n",
       "</style>\n",
       "<table border=\"1\" class=\"dataframe\">\n",
       "  <thead>\n",
       "    <tr style=\"text-align: right;\">\n",
       "      <th></th>\n",
       "      <th>Accuracy</th>\n",
       "    </tr>\n",
       "  </thead>\n",
       "  <tbody>\n",
       "    <tr>\n",
       "      <th>ExtraTreesClassifier</th>\n",
       "      <td>0.940192</td>\n",
       "    </tr>\n",
       "    <tr>\n",
       "      <th>Random Forest Classifier</th>\n",
       "      <td>0.939843</td>\n",
       "    </tr>\n",
       "    <tr>\n",
       "      <th>XGB Boosting</th>\n",
       "      <td>0.939378</td>\n",
       "    </tr>\n",
       "    <tr>\n",
       "      <th>Neural_Network</th>\n",
       "      <td>0.939068</td>\n",
       "    </tr>\n",
       "    <tr>\n",
       "      <th>Light GBM</th>\n",
       "      <td>0.938680</td>\n",
       "    </tr>\n",
       "    <tr>\n",
       "      <th>Histogram Boosting Classifier</th>\n",
       "      <td>0.938273</td>\n",
       "    </tr>\n",
       "    <tr>\n",
       "      <th>CAT Boosting</th>\n",
       "      <td>0.930504</td>\n",
       "    </tr>\n",
       "    <tr>\n",
       "      <th>LinearSVC</th>\n",
       "      <td>0.928450</td>\n",
       "    </tr>\n",
       "    <tr>\n",
       "      <th>Logistic Regression</th>\n",
       "      <td>0.928237</td>\n",
       "    </tr>\n",
       "    <tr>\n",
       "      <th>GBBoosting</th>\n",
       "      <td>0.927753</td>\n",
       "    </tr>\n",
       "    <tr>\n",
       "      <th>LogisticRegressionCV</th>\n",
       "      <td>0.926513</td>\n",
       "    </tr>\n",
       "    <tr>\n",
       "      <th>KNN</th>\n",
       "      <td>0.925351</td>\n",
       "    </tr>\n",
       "    <tr>\n",
       "      <th>SGD Classifier</th>\n",
       "      <td>0.924808</td>\n",
       "    </tr>\n",
       "    <tr>\n",
       "      <th>SVM</th>\n",
       "      <td>0.924014</td>\n",
       "    </tr>\n",
       "    <tr>\n",
       "      <th>QuadraticDiscriminantAnalysis</th>\n",
       "      <td>0.908979</td>\n",
       "    </tr>\n",
       "    <tr>\n",
       "      <th>Bagging_classifier</th>\n",
       "      <td>0.908901</td>\n",
       "    </tr>\n",
       "    <tr>\n",
       "      <th>LinearDiscriminantAnalysis</th>\n",
       "      <td>0.903689</td>\n",
       "    </tr>\n",
       "    <tr>\n",
       "      <th>RidgeClassifierCV</th>\n",
       "      <td>0.903631</td>\n",
       "    </tr>\n",
       "    <tr>\n",
       "      <th>RidgeClassifier</th>\n",
       "      <td>0.903534</td>\n",
       "    </tr>\n",
       "    <tr>\n",
       "      <th>Decision Tree</th>\n",
       "      <td>0.902411</td>\n",
       "    </tr>\n",
       "    <tr>\n",
       "      <th>NuSVC</th>\n",
       "      <td>0.861413</td>\n",
       "    </tr>\n",
       "    <tr>\n",
       "      <th>PassiveAggressiveClassifier</th>\n",
       "      <td>0.840182</td>\n",
       "    </tr>\n",
       "    <tr>\n",
       "      <th>Naive Bayes classifier</th>\n",
       "      <td>0.834582</td>\n",
       "    </tr>\n",
       "    <tr>\n",
       "      <th>CalibratedClassifierCV</th>\n",
       "      <td>0.810325</td>\n",
       "    </tr>\n",
       "    <tr>\n",
       "      <th>BernoulliNB</th>\n",
       "      <td>0.807300</td>\n",
       "    </tr>\n",
       "    <tr>\n",
       "      <th>NearestCentroid</th>\n",
       "      <td>0.804240</td>\n",
       "    </tr>\n",
       "    <tr>\n",
       "      <th>Perceptron</th>\n",
       "      <td>0.802267</td>\n",
       "    </tr>\n",
       "    <tr>\n",
       "      <th>DummyClassifier</th>\n",
       "      <td>0.100010</td>\n",
       "    </tr>\n",
       "  </tbody>\n",
       "</table>\n",
       "</div>"
      ],
      "text/plain": [
       "                               Accuracy\n",
       "ExtraTreesClassifier           0.940192\n",
       "Random Forest Classifier       0.939843\n",
       "XGB Boosting                   0.939378\n",
       "Neural_Network                 0.939068\n",
       "Light GBM                      0.938680\n",
       "Histogram Boosting Classifier  0.938273\n",
       "CAT Boosting                   0.930504\n",
       "LinearSVC                      0.928450\n",
       "Logistic Regression            0.928237\n",
       "GBBoosting                     0.927753\n",
       "LogisticRegressionCV           0.926513\n",
       "KNN                            0.925351\n",
       "SGD Classifier                 0.924808\n",
       "SVM                            0.924014\n",
       "QuadraticDiscriminantAnalysis  0.908979\n",
       "Bagging_classifier             0.908901\n",
       "LinearDiscriminantAnalysis     0.903689\n",
       "RidgeClassifierCV              0.903631\n",
       "RidgeClassifier                0.903534\n",
       "Decision Tree                  0.902411\n",
       "NuSVC                          0.861413\n",
       "PassiveAggressiveClassifier    0.840182\n",
       "Naive Bayes classifier         0.834582\n",
       "CalibratedClassifierCV         0.810325\n",
       "BernoulliNB                    0.807300\n",
       "NearestCentroid                0.804240\n",
       "Perceptron                     0.802267\n",
       "DummyClassifier                0.100010"
      ]
     },
     "execution_count": 70,
     "metadata": {},
     "output_type": "execute_result"
    }
   ],
   "source": [
    "score.sort_values(by='Accuracy',ascending=False)"
   ]
  },
  {
   "cell_type": "markdown",
   "id": "263ef791",
   "metadata": {},
   "source": [
    "# Feature Selection"
   ]
  },
  {
   "cell_type": "code",
   "execution_count": 71,
   "id": "352f911e",
   "metadata": {},
   "outputs": [],
   "source": [
    "from sklearn.feature_selection import SelectFromModel, RFECV"
   ]
  },
  {
   "cell_type": "code",
   "execution_count": 72,
   "id": "ebf3f829",
   "metadata": {
    "scrolled": false
   },
   "outputs": [
    {
     "name": "stdout",
     "output_type": "stream",
     "text": [
      "Optimal number of features : 29\n"
     ]
    }
   ],
   "source": [
    "model = RandomForestClassifier()\n",
    "\n",
    "rfecv = RFECV(estimator=model, step=1, cv=kfold, scoring='accuracy', n_jobs=2)\n",
    "\n",
    "rfecv = rfecv.fit(X_train, y_train)\n",
    "\n",
    "print('Optimal number of features :', rfecv.n_features_)\n"
   ]
  },
  {
   "cell_type": "code",
   "execution_count": 73,
   "id": "1ba0b41f",
   "metadata": {},
   "outputs": [
    {
     "name": "stdout",
     "output_type": "stream",
     "text": [
      "confusion_matrix\n",
      "[[12528   647]\n",
      " [  919   826]]\n",
      "\n",
      "\n",
      "classification_report\n",
      "              precision    recall  f1-score   support\n",
      "\n",
      "           0       0.93      0.95      0.94     13175\n",
      "           1       0.56      0.47      0.51      1745\n",
      "\n",
      "    accuracy                           0.90     14920\n",
      "   macro avg       0.75      0.71      0.73     14920\n",
      "weighted avg       0.89      0.90      0.89     14920\n",
      "\n",
      "\n",
      "\n",
      "Accuracy: 89.50402144772119\n",
      "\n",
      "\n",
      "ROC Value: 0.7121221380686483\n"
     ]
    }
   ],
   "source": [
    "FSP1=rfecv.predict(X_test)\n",
    "print('confusion_matrix')\n",
    "print(confusion_matrix(y_test,FSP1))\n",
    "print('\\n')\n",
    "print('classification_report')\n",
    "print(classification_report(y_test,FSP1))\n",
    "print('\\n')\n",
    "print('Accuracy:',100*accuracy_score(y_test,FSP1))\n",
    "print('\\n')\n",
    "print('ROC Value:',roc_auc_score(y_test,FSP1))"
   ]
  },
  {
   "cell_type": "code",
   "execution_count": 74,
   "id": "bdbad073",
   "metadata": {},
   "outputs": [
    {
     "name": "stdout",
     "output_type": "stream",
     "text": [
      "Best features : Index(['age', 'education', 'balance', 'housing', 'loan', 'month', 'duration',\n",
      "       'campaign', 'pdays', 'previous', 'job_admin.', 'job_blue-collar',\n",
      "       'job_entrepreneur', 'job_housemaid', 'job_management', 'job_retired',\n",
      "       'job_self-employed', 'job_services', 'job_student', 'job_technician',\n",
      "       'job_unemployed', 'job_unknown', 'marital_divorced', 'marital_married',\n",
      "       'marital_single', 'poutcome_failure', 'poutcome_other',\n",
      "       'poutcome_success', 'poutcome_unknown'],\n",
      "      dtype='object')\n"
     ]
    }
   ],
   "source": [
    "print('Best features :', X.columns[rfecv.support_])"
   ]
  },
  {
   "cell_type": "code",
   "execution_count": 75,
   "id": "bd95d852",
   "metadata": {},
   "outputs": [
    {
     "data": {
      "image/png": "[encoded data removed]",
      "text/plain": [
       "<Figure size 432x288 with 1 Axes>"
      ]
     },
     "metadata": {
      "needs_background": "light"
     },
     "output_type": "display_data"
    }
   ],
   "source": [
    "# # Plot number of features VS. cross-validation scores\n",
    "\n",
    "plt.figure()\n",
    "plt.xlabel(\"Number of features selected (RFE)\")\n",
    "plt.ylabel(\"Cross validation score (Accuracy)\")\n",
    "plt.plot(range(1, len(rfecv.grid_scores_) + 1), rfecv.grid_scores_)\n",
    "plt.show()"
   ]
  },
  {
   "cell_type": "markdown",
   "id": "2d3d2841",
   "metadata": {},
   "source": [
    "## RFE"
   ]
  },
  {
   "cell_type": "code",
   "execution_count": 76,
   "id": "8a231e25",
   "metadata": {},
   "outputs": [],
   "source": [
    "from sklearn.feature_selection import RFE "
   ]
  },
  {
   "cell_type": "code",
   "execution_count": 77,
   "id": "84514a7f",
   "metadata": {
    "scrolled": false
   },
   "outputs": [
    {
     "name": "stdout",
     "output_type": "stream",
     "text": [
      "No of Features:5\n",
      "Accuracy: 84.47721179624665\n",
      "ROC Value: 0.7714086873311115\n",
      "No of Features:6\n",
      "Accuracy: 85.78418230563003\n",
      "ROC Value: 0.7850236240165721\n",
      "No of Features:7\n",
      "Accuracy: 86.07238605898124\n",
      "ROC Value: 0.7782037048112526\n",
      "No of Features:8\n",
      "Accuracy: 86.58176943699732\n",
      "ROC Value: 0.7689074232151497\n",
      "No of Features:9\n",
      "Accuracy: 86.7024128686327\n",
      "ROC Value: 0.7730706871897479\n",
      "No of Features:10\n",
      "Accuracy: 87.9088471849866\n",
      "ROC Value: 0.7649868695051734\n",
      "No of Features:11\n",
      "Accuracy: 87.93565683646113\n",
      "ROC Value: 0.7626528492901921\n",
      "No of Features:12\n",
      "Accuracy: 87.70777479892762\n",
      "ROC Value: 0.7529107289463526\n",
      "No of Features:13\n",
      "Accuracy: 87.74798927613942\n",
      "ROC Value: 0.7486639517624223\n",
      "No of Features:14\n",
      "Accuracy: 87.9892761394102\n",
      "ROC Value: 0.7522674162557157\n",
      "No of Features:15\n",
      "Accuracy: 88.25067024128687\n",
      "ROC Value: 0.7482786818396828\n",
      "No of Features:16\n",
      "Accuracy: 88.29088471849866\n",
      "ROC Value: 0.7432861577942943\n",
      "No of Features:17\n",
      "Accuracy: 88.3378016085791\n",
      "ROC Value: 0.7405688249974174\n",
      "No of Features:18\n",
      "Accuracy: 88.17694369973191\n",
      "ROC Value: 0.7413980850682079\n",
      "No of Features:19\n",
      "Accuracy: 88.23056300268097\n",
      "ROC Value: 0.7352385509153287\n",
      "No of Features:20\n",
      "Accuracy: 88.30428954423593\n",
      "ROC Value: 0.7242212230118038\n",
      "No of Features:21\n",
      "Accuracy: 88.65281501340483\n",
      "ROC Value: 0.7316634678642693\n",
      "No of Features:22\n",
      "Accuracy: 88.61930294906166\n",
      "ROC Value: 0.7302308031078223\n",
      "No of Features:23\n",
      "Accuracy: 88.8739946380697\n",
      "ROC Value: 0.7334130043550834\n",
      "No of Features:24\n",
      "Accuracy: 88.80697050938338\n",
      "ROC Value: 0.7211015479303841\n",
      "No of Features:25\n",
      "Accuracy: 89.04155495978551\n",
      "ROC Value: 0.7239213148980824\n",
      "No of Features:26\n",
      "Accuracy: 89.2828418230563\n",
      "ROC Value: 0.7242932096583897\n",
      "No of Features:27\n",
      "Accuracy: 89.48391420911528\n",
      "ROC Value: 0.7241888181467245\n",
      "No of Features:28\n",
      "Accuracy: 89.25603217158177\n",
      "ROC Value: 0.7122094572185099\n",
      "No of Features:29\n",
      "Accuracy: 89.48391420911528\n",
      "ROC Value: 0.7147426912349188\n",
      "No of Features:30\n",
      "Accuracy: 89.55093833780161\n",
      "ROC Value: 0.7136307041533685\n"
     ]
    }
   ],
   "source": [
    "for i in range (5,len(X.columns)+1):\n",
    "    rfe = RFE(estimator=model, n_features_to_select=i, step=1)\n",
    "    rfe = rfe.fit(X_train, y_train)\n",
    "    FSP2=rfe.predict(X_test)\n",
    "    print(f'No of Features:{i}')\n",
    "    print('Accuracy:',100*accuracy_score(y_test,FSP2))\n",
    "    print('ROC Value:',roc_auc_score(y_test,FSP2))"
   ]
  },
  {
   "cell_type": "code",
   "execution_count": 78,
   "id": "007004c1",
   "metadata": {
    "scrolled": true
   },
   "outputs": [
    {
     "name": "stdout",
     "output_type": "stream",
     "text": [
      "No of Features:6\n",
      "Accuracy: 85.58310991957104\n",
      "ROC Value: 0.7816478635080985\n",
      "Chosen best 6 feature by rfe: Index(['age', 'balance', 'housing', 'month', 'duration', 'pdays'], dtype='object')\n"
     ]
    }
   ],
   "source": [
    "rfe = RFE(estimator=model, n_features_to_select=6, step=1)\n",
    "rfe = rfe.fit(X_train, y_train)\n",
    "FSP2=rfe.predict(X_test)\n",
    "print(f'No of Features:{6}')\n",
    "print('Accuracy:',100*accuracy_score(y_test,FSP2))\n",
    "print('ROC Value:',roc_auc_score(y_test,FSP2))\n",
    "print('Chosen best 6 feature by rfe:',X.columns[rfe.support_])"
   ]
  },
  {
   "cell_type": "code",
   "execution_count": 79,
   "id": "552613ad",
   "metadata": {},
   "outputs": [],
   "source": [
    "df_1=df[['age', 'balance', 'housing', 'month', 'duration', 'pdays','y_no']]"
   ]
  },
  {
   "cell_type": "code",
   "execution_count": 80,
   "id": "9eced64c",
   "metadata": {},
   "outputs": [],
   "source": [
    "X_1=df_1.drop('y_no',axis=1)\n",
    "y_1=df_1['y_no']"
   ]
  },
  {
   "cell_type": "code",
   "execution_count": 81,
   "id": "fcd10637",
   "metadata": {},
   "outputs": [
    {
     "data": {
      "text/html": [
       "<div>\n",
       "<style scoped>\n",
       "    .dataframe tbody tr th:only-of-type {\n",
       "        vertical-align: middle;\n",
       "    }\n",
       "\n",
       "    .dataframe tbody tr th {\n",
       "        vertical-align: top;\n",
       "    }\n",
       "\n",
       "    .dataframe thead th {\n",
       "        text-align: right;\n",
       "    }\n",
       "</style>\n",
       "<table border=\"1\" class=\"dataframe\">\n",
       "  <thead>\n",
       "    <tr style=\"text-align: right;\">\n",
       "      <th></th>\n",
       "      <th>age</th>\n",
       "      <th>balance</th>\n",
       "      <th>housing</th>\n",
       "      <th>month</th>\n",
       "      <th>duration</th>\n",
       "      <th>pdays</th>\n",
       "    </tr>\n",
       "  </thead>\n",
       "  <tbody>\n",
       "    <tr>\n",
       "      <th>0</th>\n",
       "      <td>58</td>\n",
       "      <td>2143</td>\n",
       "      <td>1</td>\n",
       "      <td>5</td>\n",
       "      <td>261</td>\n",
       "      <td>-1</td>\n",
       "    </tr>\n",
       "    <tr>\n",
       "      <th>1</th>\n",
       "      <td>44</td>\n",
       "      <td>29</td>\n",
       "      <td>1</td>\n",
       "      <td>5</td>\n",
       "      <td>151</td>\n",
       "      <td>-1</td>\n",
       "    </tr>\n",
       "    <tr>\n",
       "      <th>2</th>\n",
       "      <td>33</td>\n",
       "      <td>2</td>\n",
       "      <td>1</td>\n",
       "      <td>5</td>\n",
       "      <td>76</td>\n",
       "      <td>-1</td>\n",
       "    </tr>\n",
       "    <tr>\n",
       "      <th>3</th>\n",
       "      <td>47</td>\n",
       "      <td>1506</td>\n",
       "      <td>1</td>\n",
       "      <td>5</td>\n",
       "      <td>92</td>\n",
       "      <td>-1</td>\n",
       "    </tr>\n",
       "    <tr>\n",
       "      <th>4</th>\n",
       "      <td>33</td>\n",
       "      <td>1</td>\n",
       "      <td>0</td>\n",
       "      <td>5</td>\n",
       "      <td>198</td>\n",
       "      <td>-1</td>\n",
       "    </tr>\n",
       "  </tbody>\n",
       "</table>\n",
       "</div>"
      ],
      "text/plain": [
       "   age  balance  housing  month  duration  pdays\n",
       "0   58     2143        1      5       261     -1\n",
       "1   44       29        1      5       151     -1\n",
       "2   33        2        1      5        76     -1\n",
       "3   47     1506        1      5        92     -1\n",
       "4   33        1        0      5       198     -1"
      ]
     },
     "execution_count": 81,
     "metadata": {},
     "output_type": "execute_result"
    }
   ],
   "source": [
    "X_1.head()"
   ]
  },
  {
   "cell_type": "code",
   "execution_count": 82,
   "id": "476fed5a",
   "metadata": {},
   "outputs": [],
   "source": [
    "from sklearn.model_selection import train_test_split"
   ]
  },
  {
   "cell_type": "code",
   "execution_count": 83,
   "id": "833a3a08",
   "metadata": {},
   "outputs": [],
   "source": [
    "X_train_1, X_test_1, y_train_1, y_test_1 = train_test_split(X_1, y_1, test_size=0.33, random_state=42)"
   ]
  },
  {
   "cell_type": "code",
   "execution_count": 84,
   "id": "3d0b818c",
   "metadata": {},
   "outputs": [],
   "source": [
    "X_train_1=sc.fit_transform(X_train_1)\n",
    "X_test_1=sc.transform(X_test_1)"
   ]
  },
  {
   "cell_type": "code",
   "execution_count": 85,
   "id": "9ffe3d6f",
   "metadata": {},
   "outputs": [
    {
     "name": "stdout",
     "output_type": "stream",
     "text": [
      "confusion_matrix\n",
      "[[12653   522]\n",
      " [ 1039   706]]\n",
      "\n",
      "\n",
      "classification_report\n",
      "              precision    recall  f1-score   support\n",
      "\n",
      "           0       0.92      0.96      0.94     13175\n",
      "           1       0.57      0.40      0.47      1745\n",
      "\n",
      "    accuracy                           0.90     14920\n",
      "   macro avg       0.75      0.68      0.71     14920\n",
      "weighted avg       0.88      0.90      0.89     14920\n",
      "\n",
      "\n",
      "\n",
      "Accuracy: 89.53753351206434\n",
      "\n",
      "\n",
      "ROC Value: 0.6824820169309982\n"
     ]
    }
   ],
   "source": [
    "M=RandomForestClassifier()\n",
    "M.fit(X_train_1,y_train_1)\n",
    "P=M.predict(X_test_1)\n",
    "print('confusion_matrix')\n",
    "print(confusion_matrix(y_test_1,P))\n",
    "print('\\n')\n",
    "print('classification_report')\n",
    "print(classification_report(y_test_1,P))\n",
    "print('\\n')\n",
    "print('Accuracy:',100*accuracy_score(y_test_1,P))\n",
    "print('\\n')\n",
    "print('ROC Value:',roc_auc_score(y_test_1,P))"
   ]
  },
  {
   "cell_type": "code",
   "execution_count": 86,
   "id": "b32707b3",
   "metadata": {},
   "outputs": [
    {
     "name": "stdout",
     "output_type": "stream",
     "text": [
      "confusion_matrix\n",
      "[[12773   402]\n",
      " [ 1111   634]]\n",
      "\n",
      "\n",
      "classification_report\n",
      "              precision    recall  f1-score   support\n",
      "\n",
      "           0       0.92      0.97      0.94     13175\n",
      "           1       0.61      0.36      0.46      1745\n",
      "\n",
      "    accuracy                           0.90     14920\n",
      "   macro avg       0.77      0.67      0.70     14920\n",
      "weighted avg       0.88      0.90      0.89     14920\n",
      "\n",
      "\n",
      "\n",
      "Accuracy: 89.85924932975871\n",
      "\n",
      "\n",
      "ROC Value: 0.6664057241345563\n"
     ]
    }
   ],
   "source": [
    "M13=BaggingClassifier(base_estimator=GradientBoostingClassifier())\n",
    "M13.fit(X_train_1,y_train_1)\n",
    "P13=M13.predict(X_test_1)\n",
    "print('confusion_matrix')\n",
    "print(confusion_matrix(y_test_1,P13))\n",
    "print('\\n')\n",
    "print('classification_report')\n",
    "print(classification_report(y_test_1,P13))\n",
    "print('\\n')\n",
    "print('Accuracy:',100*accuracy_score(y_test_1,P13))\n",
    "print('\\n')\n",
    "print('ROC Value:',roc_auc_score(y_test_1,P13))"
   ]
  },
  {
   "cell_type": "markdown",
   "id": "1ca2b212",
   "metadata": {},
   "source": [
    "## Feature by BOOSTING Technique"
   ]
  },
  {
   "cell_type": "code",
   "execution_count": 87,
   "id": "2b6f5acc",
   "metadata": {},
   "outputs": [
    {
     "data": {
      "text/html": [
       "<div>\n",
       "<style scoped>\n",
       "    .dataframe tbody tr th:only-of-type {\n",
       "        vertical-align: middle;\n",
       "    }\n",
       "\n",
       "    .dataframe tbody tr th {\n",
       "        vertical-align: top;\n",
       "    }\n",
       "\n",
       "    .dataframe thead th {\n",
       "        text-align: right;\n",
       "    }\n",
       "</style>\n",
       "<table border=\"1\" class=\"dataframe\">\n",
       "  <thead>\n",
       "    <tr style=\"text-align: right;\">\n",
       "      <th></th>\n",
       "      <th>0</th>\n",
       "    </tr>\n",
       "  </thead>\n",
       "  <tbody>\n",
       "    <tr>\n",
       "      <th>housing</th>\n",
       "      <td>0.113301</td>\n",
       "    </tr>\n",
       "    <tr>\n",
       "      <th>loan</th>\n",
       "      <td>0.071979</td>\n",
       "    </tr>\n",
       "    <tr>\n",
       "      <th>duration</th>\n",
       "      <td>0.034284</td>\n",
       "    </tr>\n",
       "    <tr>\n",
       "      <th>pdays</th>\n",
       "      <td>0.019670</td>\n",
       "    </tr>\n",
       "    <tr>\n",
       "      <th>month</th>\n",
       "      <td>0.010177</td>\n",
       "    </tr>\n",
       "    <tr>\n",
       "      <th>campaign</th>\n",
       "      <td>0.008973</td>\n",
       "    </tr>\n",
       "    <tr>\n",
       "      <th>education</th>\n",
       "      <td>0.004427</td>\n",
       "    </tr>\n",
       "    <tr>\n",
       "      <th>age</th>\n",
       "      <td>0.003618</td>\n",
       "    </tr>\n",
       "    <tr>\n",
       "      <th>balance</th>\n",
       "      <td>0.002899</td>\n",
       "    </tr>\n",
       "    <tr>\n",
       "      <th>default</th>\n",
       "      <td>0.002262</td>\n",
       "    </tr>\n",
       "  </tbody>\n",
       "</table>\n",
       "</div>"
      ],
      "text/plain": [
       "                  0\n",
       "housing    0.113301\n",
       "loan       0.071979\n",
       "duration   0.034284\n",
       "pdays      0.019670\n",
       "month      0.010177\n",
       "campaign   0.008973\n",
       "education  0.004427\n",
       "age        0.003618\n",
       "balance    0.002899\n",
       "default    0.002262"
      ]
     },
     "execution_count": 87,
     "metadata": {},
     "output_type": "execute_result"
    }
   ],
   "source": [
    "feature_imp = pd.DataFrame(M10.feature_importances_ ,index=X.columns[0:40])[:10]\n",
    "feature_imp.sort_values(by=0,ascending=False)"
   ]
  },
  {
   "cell_type": "code",
   "execution_count": 88,
   "id": "a0a5e546",
   "metadata": {},
   "outputs": [
    {
     "data": {
      "text/plain": [
       "<AxesSubplot:>"
      ]
     },
     "execution_count": 88,
     "metadata": {},
     "output_type": "execute_result"
    },
    {
     "data": {
      "image/png": "[encoded data removed]",
      "text/plain": [
       "<Figure size 432x288 with 1 Axes>"
      ]
     },
     "metadata": {
      "needs_background": "light"
     },
     "output_type": "display_data"
    }
   ],
   "source": [
    "feature_imp.sort_values(by=0,ascending=False).plot(kind='barh')"
   ]
  },
  {
   "cell_type": "markdown",
   "id": "25fd2114",
   "metadata": {},
   "source": [
    "## Feature Extraction with PCA"
   ]
  },
  {
   "cell_type": "code",
   "execution_count": 89,
   "id": "15677cc8",
   "metadata": {},
   "outputs": [],
   "source": [
    "from sklearn.decomposition import PCA"
   ]
  },
  {
   "cell_type": "code",
   "execution_count": 90,
   "id": "5e7908a8",
   "metadata": {},
   "outputs": [
    {
     "data": {
      "text/plain": [
       "Text(0.5, 1.0, 'Scree Plot')"
      ]
     },
     "execution_count": 90,
     "metadata": {},
     "output_type": "execute_result"
    },
    {
     "data": {
      "image/png": "[encoded data removed]",
      "text/plain": [
       "<Figure size 1008x936 with 1 Axes>"
      ]
     },
     "metadata": {
      "needs_background": "light"
     },
     "output_type": "display_data"
    }
   ],
   "source": [
    "pca = PCA()\n",
    "pca.fit(X_train)\n",
    "\n",
    "plt.figure(1, figsize=(14, 13))\n",
    "plt.style.use(\"ggplot\") \n",
    "plt.plot(pca.explained_variance_, marker='o')\n",
    "plt.xlabel(\"Eigenvalue number\")\n",
    "plt.ylabel(\"Eigenvalue size\")\n",
    "plt.title(\"Scree Plot\")"
   ]
  },
  {
   "cell_type": "markdown",
   "id": "a8eb1690",
   "metadata": {},
   "source": [
    "**We select all the components up to the point where the bend occurs in the Scree Plot. In the above plot, the bend occurs at index 1. So, we decide to select the components at index 1 ,2 and index 3 (a total of three components).**"
   ]
  },
  {
   "cell_type": "code",
   "execution_count": 91,
   "id": "d753c089",
   "metadata": {},
   "outputs": [],
   "source": [
    "pca = PCA(n_components = 3)\n",
    "  \n",
    "X_train_pca = pca.fit_transform(X_train)\n",
    "X_test_pca = pca.transform(X_test)"
   ]
  },
  {
   "cell_type": "code",
   "execution_count": 92,
   "id": "680d3652",
   "metadata": {},
   "outputs": [
    {
     "name": "stdout",
     "output_type": "stream",
     "text": [
      "confusion_matrix\n",
      "[[12332   843]\n",
      " [ 1220   525]]\n",
      "\n",
      "\n",
      "classification_report\n",
      "              precision    recall  f1-score   support\n",
      "\n",
      "           0       0.91      0.94      0.92     13175\n",
      "           1       0.38      0.30      0.34      1745\n",
      "\n",
      "    accuracy                           0.86     14920\n",
      "   macro avg       0.65      0.62      0.63     14920\n",
      "weighted avg       0.85      0.86      0.85     14920\n",
      "\n",
      "\n",
      "\n",
      "Accuracy: 86.17292225201072\n",
      "\n",
      "\n",
      "ROC Value: 0.6184373895597615\n"
     ]
    }
   ],
   "source": [
    "model_pca=RandomForestClassifier()\n",
    "model_pca.fit(X_train_pca,y_train)\n",
    "FSP3=model_pca.predict(X_test_pca)\n",
    "print('confusion_matrix')\n",
    "print(confusion_matrix(y_test,FSP3))\n",
    "print('\\n')\n",
    "print('classification_report')\n",
    "print(classification_report(y_test,FSP3))\n",
    "print('\\n')\n",
    "print('Accuracy:',100*accuracy_score(y_test,FSP3))\n",
    "print('\\n')\n",
    "print('ROC Value:',roc_auc_score(y_test,FSP3))"
   ]
  },
  {
   "cell_type": "code",
   "execution_count": 93,
   "id": "5b459388",
   "metadata": {},
   "outputs": [
    {
     "name": "stdout",
     "output_type": "stream",
     "text": [
      "confusion_matrix\n",
      "[[12280   895]\n",
      " [ 1229   516]]\n",
      "\n",
      "\n",
      "classification_report\n",
      "              precision    recall  f1-score   support\n",
      "\n",
      "           0       0.91      0.93      0.92     13175\n",
      "           1       0.37      0.30      0.33      1745\n",
      "\n",
      "    accuracy                           0.86     14920\n",
      "   macro avg       0.64      0.61      0.62     14920\n",
      "weighted avg       0.85      0.86      0.85     14920\n",
      "\n",
      "\n",
      "\n",
      "Accuracy: 85.76407506702412\n",
      "\n",
      "\n",
      "ROC Value: 0.6138851584630525\n"
     ]
    }
   ],
   "source": [
    "model_pca=BaggingClassifier()\n",
    "model_pca.fit(X_train_pca,y_train)\n",
    "FSP3=model_pca.predict(X_test_pca)\n",
    "print('confusion_matrix')\n",
    "print(confusion_matrix(y_test,FSP3))\n",
    "print('\\n')\n",
    "print('classification_report')\n",
    "print(classification_report(y_test,FSP3))\n",
    "print('\\n')\n",
    "print('Accuracy:',100*accuracy_score(y_test,FSP3))\n",
    "print('\\n')\n",
    "print('ROC Value:',roc_auc_score(y_test,FSP3))"
   ]
  },
  {
   "cell_type": "markdown",
   "id": "7dd14cff",
   "metadata": {},
   "source": [
    "## Hyper parameter tuning"
   ]
  },
  {
   "cell_type": "code",
   "execution_count": 94,
   "id": "b0768114",
   "metadata": {},
   "outputs": [
    {
     "name": "stdout",
     "output_type": "stream",
     "text": [
      "Parameters currently in use:\n",
      "\n",
      "{'bootstrap': True,\n",
      " 'ccp_alpha': 0.0,\n",
      " 'class_weight': None,\n",
      " 'criterion': 'gini',\n",
      " 'max_depth': None,\n",
      " 'max_features': 'sqrt',\n",
      " 'max_leaf_nodes': None,\n",
      " 'max_samples': None,\n",
      " 'min_impurity_decrease': 0.0,\n",
      " 'min_samples_leaf': 1,\n",
      " 'min_samples_split': 2,\n",
      " 'min_weight_fraction_leaf': 0.0,\n",
      " 'n_estimators': 100,\n",
      " 'n_jobs': None,\n",
      " 'oob_score': False,\n",
      " 'random_state': None,\n",
      " 'verbose': 0,\n",
      " 'warm_start': False}\n"
     ]
    }
   ],
   "source": [
    "from pprint import pprint\n",
    "print('Parameters currently in use:\\n')\n",
    "pprint(model.get_params())"
   ]
  },
  {
   "cell_type": "code",
   "execution_count": 95,
   "id": "66e8dd78",
   "metadata": {},
   "outputs": [],
   "source": [
    "from sklearn.model_selection import RandomizedSearchCV"
   ]
  },
  {
   "cell_type": "code",
   "execution_count": 96,
   "id": "f0ad4da1",
   "metadata": {},
   "outputs": [],
   "source": [
    "# Number of trees in random forest\n",
    "n_estimators = [int(x) for x in np.linspace(start = 200, stop = 2000, num = 10)]\n",
    "\n",
    "# Number of features to consider at every split\n",
    "max_features = ['auto', 'sqrt']\n",
    "\n",
    "# Maximum number of levels in tree\n",
    "max_depth = [int(x) for x in np.linspace(10, 110, num = 11)]\n",
    "max_depth.append(None)\n",
    "\n",
    "# Minimum number of samples required to split a node\n",
    "min_samples_split = [2, 5, 10]\n",
    "\n",
    "# Minimum number of samples required at each leaf node\n",
    "min_samples_leaf = [1, 2, 4]\n",
    "\n",
    "# Method of selecting samples for training each tree\n",
    "bootstrap = [True, False]"
   ]
  },
  {
   "cell_type": "code",
   "execution_count": 97,
   "id": "cc37652a",
   "metadata": {},
   "outputs": [
    {
     "name": "stdout",
     "output_type": "stream",
     "text": [
      "{'bootstrap': [True, False],\n",
      " 'max_depth': [10, 20, 30, 40, 50, 60, 70, 80, 90, 100, 110, None],\n",
      " 'max_features': ['auto', 'sqrt'],\n",
      " 'min_samples_leaf': [1, 2, 4],\n",
      " 'min_samples_split': [2, 5, 10],\n",
      " 'n_estimators': [200, 400, 600, 800, 1000, 1200, 1400, 1600, 1800, 2000]}\n"
     ]
    }
   ],
   "source": [
    "random_grid = {'n_estimators': n_estimators,\n",
    "               'max_features': max_features,\n",
    "               'max_depth': max_depth,\n",
    "               'min_samples_split': min_samples_split,\n",
    "               'min_samples_leaf': min_samples_leaf,\n",
    "               'bootstrap': bootstrap}\n",
    "pprint(random_grid)"
   ]
  },
  {
   "cell_type": "code",
   "execution_count": 98,
   "id": "4050fc00",
   "metadata": {},
   "outputs": [
    {
     "name": "stdout",
     "output_type": "stream",
     "text": [
      "Fitting 3 folds for each of 5 candidates, totalling 15 fits\n"
     ]
    },
    {
     "data": {
      "text/html": [
       "<style>#sk-container-id-1 {color: black;background-color: white;}#sk-container-id-1 pre{padding: 0;}#sk-container-id-1 div.sk-toggleable {background-color: white;}#sk-container-id-1 label.sk-toggleable__label {cursor: pointer;display: block;width: 100%;margin-bottom: 0;padding: 0.3em;box-sizing: border-box;text-align: center;}#sk-container-id-1 label.sk-toggleable__label-arrow:before {content: \"▸\";float: left;margin-right: 0.25em;color: #696969;}#sk-container-id-1 label.sk-toggleable__label-arrow:hover:before {color: black;}#sk-container-id-1 div.sk-estimator:hover label.sk-toggleable__label-arrow:before {color: black;}#sk-container-id-1 div.sk-toggleable__content {max-height: 0;max-width: 0;overflow: hidden;text-align: left;background-color: #f0f8ff;}#sk-container-id-1 div.sk-toggleable__content pre {margin: 0.2em;color: black;border-radius: 0.25em;background-color: #f0f8ff;}#sk-container-id-1 input.sk-toggleable__control:checked~div.sk-toggleable__content {max-height: 200px;max-width: 100%;overflow: auto;}#sk-container-id-1 input.sk-toggleable__control:checked~label.sk-toggleable__label-arrow:before {content: \"▾\";}#sk-container-id-1 div.sk-estimator input.sk-toggleable__control:checked~label.sk-toggleable__label {background-color: #d4ebff;}#sk-container-id-1 div.sk-label input.sk-toggleable__control:checked~label.sk-toggleable__label {background-color: #d4ebff;}#sk-container-id-1 input.sk-hidden--visually {border: 0;clip: rect(1px 1px 1px 1px);clip: rect(1px, 1px, 1px, 1px);height: 1px;margin: -1px;overflow: hidden;padding: 0;position: absolute;width: 1px;}#sk-container-id-1 div.sk-estimator {font-family: monospace;background-color: #f0f8ff;border: 1px dotted black;border-radius: 0.25em;box-sizing: border-box;margin-bottom: 0.5em;}#sk-container-id-1 div.sk-estimator:hover {background-color: #d4ebff;}#sk-container-id-1 div.sk-parallel-item::after {content: \"\";width: 100%;border-bottom: 1px solid gray;flex-grow: 1;}#sk-container-id-1 div.sk-label:hover label.sk-toggleable__label {background-color: #d4ebff;}#sk-container-id-1 div.sk-serial::before {content: \"\";position: absolute;border-left: 1px solid gray;box-sizing: border-box;top: 0;bottom: 0;left: 50%;z-index: 0;}#sk-container-id-1 div.sk-serial {display: flex;flex-direction: column;align-items: center;background-color: white;padding-right: 0.2em;padding-left: 0.2em;position: relative;}#sk-container-id-1 div.sk-item {position: relative;z-index: 1;}#sk-container-id-1 div.sk-parallel {display: flex;align-items: stretch;justify-content: center;background-color: white;position: relative;}#sk-container-id-1 div.sk-item::before, #sk-container-id-1 div.sk-parallel-item::before {content: \"\";position: absolute;border-left: 1px solid gray;box-sizing: border-box;top: 0;bottom: 0;left: 50%;z-index: -1;}#sk-container-id-1 div.sk-parallel-item {display: flex;flex-direction: column;z-index: 1;position: relative;background-color: white;}#sk-container-id-1 div.sk-parallel-item:first-child::after {align-self: flex-end;width: 50%;}#sk-container-id-1 div.sk-parallel-item:last-child::after {align-self: flex-start;width: 50%;}#sk-container-id-1 div.sk-parallel-item:only-child::after {width: 0;}#sk-container-id-1 div.sk-dashed-wrapped {border: 1px dashed gray;margin: 0 0.4em 0.5em 0.4em;box-sizing: border-box;padding-bottom: 0.4em;background-color: white;}#sk-container-id-1 div.sk-label label {font-family: monospace;font-weight: bold;display: inline-block;line-height: 1.2em;}#sk-container-id-1 div.sk-label-container {text-align: center;}#sk-container-id-1 div.sk-container {/* jupyter's `normalize.less` sets `[hidden] { display: none; }` but bootstrap.min.css set `[hidden] { display: none !important; }` so we also need the `!important` here to be able to override the default hidden behavior on the sphinx rendered scikit-learn.org. See: https://github.com/scikit-learn/scikit-learn/issues/21755 */display: inline-block !important;position: relative;}#sk-container-id-1 div.sk-text-repr-fallback {display: none;}</style><div id=\"sk-container-id-1\" class=\"sk-top-container\"><div class=\"sk-text-repr-fallback\"><pre>RandomizedSearchCV(cv=3, estimator=RandomForestClassifier(), n_iter=5,\n",
       "                   n_jobs=-1,\n",
       "                   param_distributions={&#x27;bootstrap&#x27;: [True, False],\n",
       "                                        &#x27;max_depth&#x27;: [10, 20, 30, 40, 50, 60,\n",
       "                                                      70, 80, 90, 100, 110,\n",
       "                                                      None],\n",
       "                                        &#x27;max_features&#x27;: [&#x27;auto&#x27;, &#x27;sqrt&#x27;],\n",
       "                                        &#x27;min_samples_leaf&#x27;: [1, 2, 4],\n",
       "                                        &#x27;min_samples_split&#x27;: [2, 5, 10],\n",
       "                                        &#x27;n_estimators&#x27;: [200, 400, 600, 800,\n",
       "                                                         1000, 1200, 1400, 1600,\n",
       "                                                         1800, 2000]},\n",
       "                   return_train_score=True, verbose=True)</pre><b>In a Jupyter environment, please rerun this cell to show the HTML representation or trust the notebook. <br />On GitHub, the HTML representation is unable to render, please try loading this page with nbviewer.org.</b></div><div class=\"sk-container\" hidden><div class=\"sk-item sk-dashed-wrapped\"><div class=\"sk-label-container\"><div class=\"sk-label sk-toggleable\"><input class=\"sk-toggleable__control sk-hidden--visually\" id=\"sk-estimator-id-1\" type=\"checkbox\" ><label for=\"sk-estimator-id-1\" class=\"sk-toggleable__label sk-toggleable__label-arrow\">RandomizedSearchCV</label><div class=\"sk-toggleable__content\"><pre>RandomizedSearchCV(cv=3, estimator=RandomForestClassifier(), n_iter=5,\n",
       "                   n_jobs=-1,\n",
       "                   param_distributions={&#x27;bootstrap&#x27;: [True, False],\n",
       "                                        &#x27;max_depth&#x27;: [10, 20, 30, 40, 50, 60,\n",
       "                                                      70, 80, 90, 100, 110,\n",
       "                                                      None],\n",
       "                                        &#x27;max_features&#x27;: [&#x27;auto&#x27;, &#x27;sqrt&#x27;],\n",
       "                                        &#x27;min_samples_leaf&#x27;: [1, 2, 4],\n",
       "                                        &#x27;min_samples_split&#x27;: [2, 5, 10],\n",
       "                                        &#x27;n_estimators&#x27;: [200, 400, 600, 800,\n",
       "                                                         1000, 1200, 1400, 1600,\n",
       "                                                         1800, 2000]},\n",
       "                   return_train_score=True, verbose=True)</pre></div></div></div><div class=\"sk-parallel\"><div class=\"sk-parallel-item\"><div class=\"sk-item\"><div class=\"sk-label-container\"><div class=\"sk-label sk-toggleable\"><input class=\"sk-toggleable__control sk-hidden--visually\" id=\"sk-estimator-id-2\" type=\"checkbox\" ><label for=\"sk-estimator-id-2\" class=\"sk-toggleable__label sk-toggleable__label-arrow\">estimator: RandomForestClassifier</label><div class=\"sk-toggleable__content\"><pre>RandomForestClassifier()</pre></div></div></div><div class=\"sk-serial\"><div class=\"sk-item\"><div class=\"sk-estimator sk-toggleable\"><input class=\"sk-toggleable__control sk-hidden--visually\" id=\"sk-estimator-id-3\" type=\"checkbox\" ><label for=\"sk-estimator-id-3\" class=\"sk-toggleable__label sk-toggleable__label-arrow\">RandomForestClassifier</label><div class=\"sk-toggleable__content\"><pre>RandomForestClassifier()</pre></div></div></div></div></div></div></div></div></div></div>"
      ],
      "text/plain": [
       "RandomizedSearchCV(cv=3, estimator=RandomForestClassifier(), n_iter=5,\n",
       "                   n_jobs=-1,\n",
       "                   param_distributions={'bootstrap': [True, False],\n",
       "                                        'max_depth': [10, 20, 30, 40, 50, 60,\n",
       "                                                      70, 80, 90, 100, 110,\n",
       "                                                      None],\n",
       "                                        'max_features': ['auto', 'sqrt'],\n",
       "                                        'min_samples_leaf': [1, 2, 4],\n",
       "                                        'min_samples_split': [2, 5, 10],\n",
       "                                        'n_estimators': [200, 400, 600, 800,\n",
       "                                                         1000, 1200, 1400, 1600,\n",
       "                                                         1800, 2000]},\n",
       "                   return_train_score=True, verbose=True)"
      ]
     },
     "execution_count": 98,
     "metadata": {},
     "output_type": "execute_result"
    }
   ],
   "source": [
    "rs = RandomizedSearchCV(estimator=model, param_distributions=random_grid, \n",
    "                 return_train_score= True, n_jobs=-1, verbose=True, cv = 3, n_iter=5)\n",
    "rs.fit(X_train, y_train)"
   ]
  },
  {
   "cell_type": "code",
   "execution_count": 99,
   "id": "fc227da5",
   "metadata": {},
   "outputs": [
    {
     "name": "stdout",
     "output_type": "stream",
     "text": [
      "confusion_matrix\n",
      "[[12477   698]\n",
      " [  845   900]]\n",
      "\n",
      "\n",
      "classification_report\n",
      "              precision    recall  f1-score   support\n",
      "\n",
      "           0       0.94      0.95      0.94     13175\n",
      "           1       0.56      0.52      0.54      1745\n",
      "\n",
      "    accuracy                           0.90     14920\n",
      "   macro avg       0.75      0.73      0.74     14920\n",
      "weighted avg       0.89      0.90      0.89     14920\n",
      "\n",
      "\n",
      "\n",
      "Accuracy: 89.65817694369973\n",
      "\n",
      "\n",
      "ROC Value: 0.731390092593096\n"
     ]
    }
   ],
   "source": [
    "P29=rs.predict(X_test)\n",
    "print('confusion_matrix')\n",
    "print(confusion_matrix(y_test,P29))\n",
    "print('\\n')\n",
    "print('classification_report')\n",
    "print(classification_report(y_test,P29))\n",
    "print('\\n')\n",
    "print('Accuracy:',100*accuracy_score(y_test,P29))\n",
    "print('\\n')\n",
    "print('ROC Value:',roc_auc_score(y_test,P29))"
   ]
  },
  {
   "cell_type": "code",
   "execution_count": 100,
   "id": "d8115efb",
   "metadata": {},
   "outputs": [],
   "source": [
    "param_grid = {\n",
    "    'criterion': ['mse', 'mae', 'friedman_mse'], \n",
    "    'learning_rate': [0.05, 0.1, 0.15, 0.2], \n",
    "    'max_depth': [2, 3, 4, 5], \n",
    "    'max_features': ['sqrt', None], \n",
    "    'max_leaf_nodes': list(range(2, 10)),\n",
    "    'n_estimators': list(range(50, 500, 50)),\n",
    "    'subsample': [0.8, 0.9, 1.0]\n",
    "}"
   ]
  },
  {
   "cell_type": "code",
   "execution_count": 101,
   "id": "c4f07f4c",
   "metadata": {},
   "outputs": [
    {
     "name": "stdout",
     "output_type": "stream",
     "text": [
      "Fitting 3 folds for each of 5 candidates, totalling 15 fits\n"
     ]
    },
    {
     "data": {
      "text/html": [
       "<style>#sk-container-id-2 {color: black;background-color: white;}#sk-container-id-2 pre{padding: 0;}#sk-container-id-2 div.sk-toggleable {background-color: white;}#sk-container-id-2 label.sk-toggleable__label {cursor: pointer;display: block;width: 100%;margin-bottom: 0;padding: 0.3em;box-sizing: border-box;text-align: center;}#sk-container-id-2 label.sk-toggleable__label-arrow:before {content: \"▸\";float: left;margin-right: 0.25em;color: #696969;}#sk-container-id-2 label.sk-toggleable__label-arrow:hover:before {color: black;}#sk-container-id-2 div.sk-estimator:hover label.sk-toggleable__label-arrow:before {color: black;}#sk-container-id-2 div.sk-toggleable__content {max-height: 0;max-width: 0;overflow: hidden;text-align: left;background-color: #f0f8ff;}#sk-container-id-2 div.sk-toggleable__content pre {margin: 0.2em;color: black;border-radius: 0.25em;background-color: #f0f8ff;}#sk-container-id-2 input.sk-toggleable__control:checked~div.sk-toggleable__content {max-height: 200px;max-width: 100%;overflow: auto;}#sk-container-id-2 input.sk-toggleable__control:checked~label.sk-toggleable__label-arrow:before {content: \"▾\";}#sk-container-id-2 div.sk-estimator input.sk-toggleable__control:checked~label.sk-toggleable__label {background-color: #d4ebff;}#sk-container-id-2 div.sk-label input.sk-toggleable__control:checked~label.sk-toggleable__label {background-color: #d4ebff;}#sk-container-id-2 input.sk-hidden--visually {border: 0;clip: rect(1px 1px 1px 1px);clip: rect(1px, 1px, 1px, 1px);height: 1px;margin: -1px;overflow: hidden;padding: 0;position: absolute;width: 1px;}#sk-container-id-2 div.sk-estimator {font-family: monospace;background-color: #f0f8ff;border: 1px dotted black;border-radius: 0.25em;box-sizing: border-box;margin-bottom: 0.5em;}#sk-container-id-2 div.sk-estimator:hover {background-color: #d4ebff;}#sk-container-id-2 div.sk-parallel-item::after {content: \"\";width: 100%;border-bottom: 1px solid gray;flex-grow: 1;}#sk-container-id-2 div.sk-label:hover label.sk-toggleable__label {background-color: #d4ebff;}#sk-container-id-2 div.sk-serial::before {content: \"\";position: absolute;border-left: 1px solid gray;box-sizing: border-box;top: 0;bottom: 0;left: 50%;z-index: 0;}#sk-container-id-2 div.sk-serial {display: flex;flex-direction: column;align-items: center;background-color: white;padding-right: 0.2em;padding-left: 0.2em;position: relative;}#sk-container-id-2 div.sk-item {position: relative;z-index: 1;}#sk-container-id-2 div.sk-parallel {display: flex;align-items: stretch;justify-content: center;background-color: white;position: relative;}#sk-container-id-2 div.sk-item::before, #sk-container-id-2 div.sk-parallel-item::before {content: \"\";position: absolute;border-left: 1px solid gray;box-sizing: border-box;top: 0;bottom: 0;left: 50%;z-index: -1;}#sk-container-id-2 div.sk-parallel-item {display: flex;flex-direction: column;z-index: 1;position: relative;background-color: white;}#sk-container-id-2 div.sk-parallel-item:first-child::after {align-self: flex-end;width: 50%;}#sk-container-id-2 div.sk-parallel-item:last-child::after {align-self: flex-start;width: 50%;}#sk-container-id-2 div.sk-parallel-item:only-child::after {width: 0;}#sk-container-id-2 div.sk-dashed-wrapped {border: 1px dashed gray;margin: 0 0.4em 0.5em 0.4em;box-sizing: border-box;padding-bottom: 0.4em;background-color: white;}#sk-container-id-2 div.sk-label label {font-family: monospace;font-weight: bold;display: inline-block;line-height: 1.2em;}#sk-container-id-2 div.sk-label-container {text-align: center;}#sk-container-id-2 div.sk-container {/* jupyter's `normalize.less` sets `[hidden] { display: none; }` but bootstrap.min.css set `[hidden] { display: none !important; }` so we also need the `!important` here to be able to override the default hidden behavior on the sphinx rendered scikit-learn.org. See: https://github.com/scikit-learn/scikit-learn/issues/21755 */display: inline-block !important;position: relative;}#sk-container-id-2 div.sk-text-repr-fallback {display: none;}</style><div id=\"sk-container-id-2\" class=\"sk-top-container\"><div class=\"sk-text-repr-fallback\"><pre>RandomizedSearchCV(cv=3, estimator=GradientBoostingClassifier(), n_iter=5,\n",
       "                   n_jobs=-1,\n",
       "                   param_distributions={&#x27;criterion&#x27;: [&#x27;mse&#x27;, &#x27;mae&#x27;,\n",
       "                                                      &#x27;friedman_mse&#x27;],\n",
       "                                        &#x27;learning_rate&#x27;: [0.05, 0.1, 0.15, 0.2],\n",
       "                                        &#x27;max_depth&#x27;: [2, 3, 4, 5],\n",
       "                                        &#x27;max_features&#x27;: [&#x27;sqrt&#x27;, None],\n",
       "                                        &#x27;max_leaf_nodes&#x27;: [2, 3, 4, 5, 6, 7, 8,\n",
       "                                                           9],\n",
       "                                        &#x27;n_estimators&#x27;: [50, 100, 150, 200, 250,\n",
       "                                                         300, 350, 400, 450],\n",
       "                                        &#x27;subsample&#x27;: [0.8, 0.9, 1.0]},\n",
       "                   return_train_score=True, verbose=True)</pre><b>In a Jupyter environment, please rerun this cell to show the HTML representation or trust the notebook. <br />On GitHub, the HTML representation is unable to render, please try loading this page with nbviewer.org.</b></div><div class=\"sk-container\" hidden><div class=\"sk-item sk-dashed-wrapped\"><div class=\"sk-label-container\"><div class=\"sk-label sk-toggleable\"><input class=\"sk-toggleable__control sk-hidden--visually\" id=\"sk-estimator-id-4\" type=\"checkbox\" ><label for=\"sk-estimator-id-4\" class=\"sk-toggleable__label sk-toggleable__label-arrow\">RandomizedSearchCV</label><div class=\"sk-toggleable__content\"><pre>RandomizedSearchCV(cv=3, estimator=GradientBoostingClassifier(), n_iter=5,\n",
       "                   n_jobs=-1,\n",
       "                   param_distributions={&#x27;criterion&#x27;: [&#x27;mse&#x27;, &#x27;mae&#x27;,\n",
       "                                                      &#x27;friedman_mse&#x27;],\n",
       "                                        &#x27;learning_rate&#x27;: [0.05, 0.1, 0.15, 0.2],\n",
       "                                        &#x27;max_depth&#x27;: [2, 3, 4, 5],\n",
       "                                        &#x27;max_features&#x27;: [&#x27;sqrt&#x27;, None],\n",
       "                                        &#x27;max_leaf_nodes&#x27;: [2, 3, 4, 5, 6, 7, 8,\n",
       "                                                           9],\n",
       "                                        &#x27;n_estimators&#x27;: [50, 100, 150, 200, 250,\n",
       "                                                         300, 350, 400, 450],\n",
       "                                        &#x27;subsample&#x27;: [0.8, 0.9, 1.0]},\n",
       "                   return_train_score=True, verbose=True)</pre></div></div></div><div class=\"sk-parallel\"><div class=\"sk-parallel-item\"><div class=\"sk-item\"><div class=\"sk-label-container\"><div class=\"sk-label sk-toggleable\"><input class=\"sk-toggleable__control sk-hidden--visually\" id=\"sk-estimator-id-5\" type=\"checkbox\" ><label for=\"sk-estimator-id-5\" class=\"sk-toggleable__label sk-toggleable__label-arrow\">estimator: GradientBoostingClassifier</label><div class=\"sk-toggleable__content\"><pre>GradientBoostingClassifier()</pre></div></div></div><div class=\"sk-serial\"><div class=\"sk-item\"><div class=\"sk-estimator sk-toggleable\"><input class=\"sk-toggleable__control sk-hidden--visually\" id=\"sk-estimator-id-6\" type=\"checkbox\" ><label for=\"sk-estimator-id-6\" class=\"sk-toggleable__label sk-toggleable__label-arrow\">GradientBoostingClassifier</label><div class=\"sk-toggleable__content\"><pre>GradientBoostingClassifier()</pre></div></div></div></div></div></div></div></div></div></div>"
      ],
      "text/plain": [
       "RandomizedSearchCV(cv=3, estimator=GradientBoostingClassifier(), n_iter=5,\n",
       "                   n_jobs=-1,\n",
       "                   param_distributions={'criterion': ['mse', 'mae',\n",
       "                                                      'friedman_mse'],\n",
       "                                        'learning_rate': [0.05, 0.1, 0.15, 0.2],\n",
       "                                        'max_depth': [2, 3, 4, 5],\n",
       "                                        'max_features': ['sqrt', None],\n",
       "                                        'max_leaf_nodes': [2, 3, 4, 5, 6, 7, 8,\n",
       "                                                           9],\n",
       "                                        'n_estimators': [50, 100, 150, 200, 250,\n",
       "                                                         300, 350, 400, 450],\n",
       "                                        'subsample': [0.8, 0.9, 1.0]},\n",
       "                   return_train_score=True, verbose=True)"
      ]
     },
     "execution_count": 101,
     "metadata": {},
     "output_type": "execute_result"
    }
   ],
   "source": [
    "rs1 = RandomizedSearchCV(estimator=GradientBoostingClassifier(), param_distributions=param_grid, \n",
    "                 return_train_score= True, n_jobs=-1, verbose=True, cv = 3, n_iter=5)\n",
    "rs1.fit(X_train, y_train)"
   ]
  },
  {
   "cell_type": "code",
   "execution_count": 102,
   "id": "2e23ba46",
   "metadata": {},
   "outputs": [
    {
     "name": "stdout",
     "output_type": "stream",
     "text": [
      "confusion_matrix\n",
      "[[12512   663]\n",
      " [  827   918]]\n",
      "\n",
      "\n",
      "classification_report\n",
      "              precision    recall  f1-score   support\n",
      "\n",
      "           0       0.94      0.95      0.94     13175\n",
      "           1       0.58      0.53      0.55      1745\n",
      "\n",
      "    accuracy                           0.90     14920\n",
      "   macro avg       0.76      0.74      0.75     14920\n",
      "weighted avg       0.90      0.90      0.90     14920\n",
      "\n",
      "\n",
      "\n",
      "Accuracy: 90.01340482573727\n",
      "\n",
      "\n",
      "ROC Value: 0.737875958961087\n"
     ]
    }
   ],
   "source": [
    "P30=rs1.predict(X_test)\n",
    "print('confusion_matrix')\n",
    "print(confusion_matrix(y_test,P30))\n",
    "print('\\n')\n",
    "print('classification_report')\n",
    "print(classification_report(y_test,P30))\n",
    "print('\\n')\n",
    "print('Accuracy:',100*accuracy_score(y_test,P30))\n",
    "print('\\n')\n",
    "print('ROC Value:',roc_auc_score(y_test,P30))"
   ]
  },
  {
   "cell_type": "code",
   "execution_count": 103,
   "id": "26d544b9",
   "metadata": {},
   "outputs": [
    {
     "name": "stdout",
     "output_type": "stream",
     "text": [
      "Fitting 3 folds for each of 5 candidates, totalling 15 fits\n",
      "Fitting 3 folds for each of 5 candidates, totalling 15 fits\n",
      "Fitting 3 folds for each of 5 candidates, totalling 15 fits\n",
      "Fitting 3 folds for each of 5 candidates, totalling 15 fits\n",
      "Fitting 3 folds for each of 5 candidates, totalling 15 fits\n",
      "Fitting 3 folds for each of 5 candidates, totalling 15 fits\n",
      "Fitting 3 folds for each of 5 candidates, totalling 15 fits\n",
      "Fitting 3 folds for each of 5 candidates, totalling 15 fits\n",
      "Fitting 3 folds for each of 5 candidates, totalling 15 fits\n",
      "Fitting 3 folds for each of 5 candidates, totalling 15 fits\n",
      "confusion_matrix\n",
      "[[12495   680]\n",
      " [  810   935]]\n",
      "\n",
      "\n",
      "classification_report\n",
      "              precision    recall  f1-score   support\n",
      "\n",
      "           0       0.94      0.95      0.94     13175\n",
      "           1       0.58      0.54      0.56      1745\n",
      "\n",
      "    accuracy                           0.90     14920\n",
      "   macro avg       0.76      0.74      0.75     14920\n",
      "weighted avg       0.90      0.90      0.90     14920\n",
      "\n",
      "\n",
      "\n",
      "Accuracy: 90.01340482573727\n",
      "\n",
      "\n",
      "ROC Value: 0.7421018578426842\n"
     ]
    }
   ],
   "source": [
    "M31=BaggingClassifier(base_estimator=rs1)\n",
    "M31.fit(X_train,y_train)\n",
    "P31=M31.predict(X_test)\n",
    "print('confusion_matrix')\n",
    "print(confusion_matrix(y_test,P31))\n",
    "print('\\n')\n",
    "print('classification_report')\n",
    "print(classification_report(y_test,P31))\n",
    "print('\\n')\n",
    "print('Accuracy:',100*accuracy_score(y_test,P31))\n",
    "print('\\n')\n",
    "print('ROC Value:',roc_auc_score(y_test,P31))"
   ]
  },
  {
   "cell_type": "code",
   "execution_count": 104,
   "id": "56a96be2",
   "metadata": {},
   "outputs": [],
   "source": [
    "import pickle\n",
    "filename = 'finalized_model.sav'\n",
    "pickle.dump(M31, open(filename, 'wb'))"
   ]
  }
 ],
 "metadata": {
  "kernelspec": {
   "display_name": "Python 3 (ipykernel)",
   "language": "python",
   "name": "python3"
  },
  "language_info": {
   "codemirror_mode": {
    "name": "ipython",
    "version": 3
   },
   "file_extension": ".py",
   "mimetype": "text/x-python",
   "name": "python",
   "nbconvert_exporter": "python",
   "pygments_lexer": "ipython3",
   "version": "3.9.12"
  }
 },
 "nbformat": 4,
 "nbformat_minor": 5
}
